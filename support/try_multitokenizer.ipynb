{
 "cells": [
  {
   "cell_type": "code",
   "execution_count": 6,
   "metadata": {},
   "outputs": [],
   "source": [
    "from multi_tokenizer import MultiTokenizer, PretrainedTokenizers"
   ]
  },
  {
   "cell_type": "code",
   "execution_count": 7,
   "metadata": {},
   "outputs": [],
   "source": [
    "lang_tokenizers = [\n",
    "    PretrainedTokenizers.ENGLISH,\n",
    "    PretrainedTokenizers.CHINESE,\n",
    "    PretrainedTokenizers.HINDI,\n",
    "]\n",
    "tokenizer = MultiTokenizer(lang_tokenizers, split_text=True)"
   ]
  },
  {
   "cell_type": "code",
   "execution_count": 8,
   "metadata": {},
   "outputs": [
    {
     "name": "stdout",
     "output_type": "stream",
     "text": [
      "['The', 'cat', 'is', 'cute.', '猫很可爱.', 'बिल्ली', 'बहुत', 'प्यारी', 'है.']\n"
     ]
    },
    {
     "data": {
      "text/plain": [
       "[('<EN>', (0, 1)),\n",
       " ('The', (1, 4)),\n",
       " ('Ġcat', (4, 8)),\n",
       " ('Ġis', (8, 11)),\n",
       " ('Ġcute', (11, 16)),\n",
       " ('.', (16, 17)),\n",
       " ('</EN>', (15, 16)),\n",
       " ('<ZH>', (17, 18)),\n",
       " ('çĮ«å¾Īåı¯çĪ±', (18, 22)),\n",
       " ('.', (22, 23)),\n",
       " ('</ZH>', (21, 22)),\n",
       " ('<HI>', (23, 24)),\n",
       " ('à¤¬', (24, 25)),\n",
       " ('à¤¿', (25, 26)),\n",
       " ('à¤²', (26, 27)),\n",
       " ('à¥į', (27, 28)),\n",
       " ('à¤²', (28, 29)),\n",
       " ('à¥Ģ', (29, 30)),\n",
       " ('Ġà¤¬à¤¹', (30, 33)),\n",
       " ('à¥ģ', (33, 34)),\n",
       " ('à¤¤', (34, 35)),\n",
       " ('Ġà¤ª', (35, 37)),\n",
       " ('à¥į', (37, 38)),\n",
       " ('à¤¯', (38, 39)),\n",
       " ('à¤¾', (39, 40)),\n",
       " ('à¤°', (40, 41)),\n",
       " ('à¥Ģ', (41, 42)),\n",
       " ('Ġà¤¹', (42, 44)),\n",
       " ('à¥Ī.', (44, 46)),\n",
       " ('</HI>', (44, 45))]"
      ]
     },
     "execution_count": 8,
     "metadata": {},
     "output_type": "execute_result"
    }
   ],
   "source": [
    "# sentence about a cat in a mix of english, chinese, and hindi\n",
    "sentence = \"The cat is cute. 猫很可爱. बिल्ली बहुत प्यारी है.\"\n",
    "tokenizer.pre_tokenize(sentence)"
   ]
  },
  {
   "cell_type": "code",
   "execution_count": 9,
   "metadata": {},
   "outputs": [
    {
     "name": "stdout",
     "output_type": "stream",
     "text": [
      "['The', 'cat', 'is', 'cute.', '猫很可爱.', 'बिल्ली', 'बहुत', 'प्यारी', 'है.']\n"
     ]
    },
    {
     "data": {
      "text/plain": [
       "[DetectionResult(start_index=0, end_index=16, word_count=4, language=Language.ENGLISH),\n",
       " DetectionResult(start_index=17, end_index=22, word_count=4, language=Language.CHINESE),\n",
       " DetectionResult(start_index=23, end_index=45, word_count=9, language=Language.HINDI)]"
      ]
     },
     "execution_count": 9,
     "metadata": {},
     "output_type": "execute_result"
    }
   ],
   "source": [
    "tokenizer.language_detector.split_n_detect(sentence)"
   ]
  },
  {
   "cell_type": "code",
   "execution_count": null,
   "metadata": {},
   "outputs": [],
   "source": []
  }
 ],
 "metadata": {
  "kernelspec": {
   "display_name": "multi-tokenizer",
   "language": "python",
   "name": "python3"
  },
  "language_info": {
   "codemirror_mode": {
    "name": "ipython",
    "version": 3
   },
   "file_extension": ".py",
   "mimetype": "text/x-python",
   "name": "python",
   "nbconvert_exporter": "python",
   "pygments_lexer": "ipython3",
   "version": "3.12.4"
  }
 },
 "nbformat": 4,
 "nbformat_minor": 2
}
