{
 "cells": [
  {
   "cell_type": "code",
   "execution_count": 1,
   "metadata": {},
   "outputs": [],
   "source": [
    "from multi_tokenizer import MultiTokenizer, PretrainedTokenizers"
   ]
  },
  {
   "cell_type": "code",
   "execution_count": 2,
   "metadata": {},
   "outputs": [],
   "source": [
    "lang_tokenizers = [\n",
    "    PretrainedTokenizers.ENGLISH,\n",
    "    PretrainedTokenizers.CHINESE,\n",
    "    PretrainedTokenizers.HINDI,\n",
    "]\n",
    "tokenizer = MultiTokenizer(lang_tokenizers, split_text=True)"
   ]
  },
  {
   "cell_type": "code",
   "execution_count": 24,
   "metadata": {},
   "outputs": [
    {
     "name": "stdout",
     "output_type": "stream",
     "text": [
      "[('<EN>', (0, 1)), ('Translate', (1, 10)), ('Ġthis', (10, 15)), ('Ġhindi', (15, 21)), ('Ġsentence', (21, 30)), ('Ġto', (30, 33)), ('Ġenglish', (33, 41)), ('</EN>', (39, 40)), (' ', (40, 41)), ('<HI>', (41, 42)), ('-', (42, 43)), ('Ġà¤¬', (43, 45)), ('à¤¿', (45, 46)), ('à¤²', (46, 47)), ('à¥į', (47, 48)), ('à¤²', (48, 49)), ('à¥Ģ', (49, 50)), ('Ġà¤¬à¤¹', (50, 53)), ('à¥ģ', (53, 54)), ('à¤¤', (54, 55)), ('Ġà¤ª', (55, 57)), ('à¥į', (57, 58)), ('à¤¯', (58, 59)), ('à¤¾', (59, 60)), ('à¤°', (60, 61)), ('à¥Ģ', (61, 62)), ('Ġà¤¹', (62, 64)), ('</HI>', (62, 63)), ('ै.', (63, 65))]\n"
     ]
    }
   ],
   "source": [
    "# sentence = \"The cat is cute. 猫很可爱. बिल्ली बहुत प्यारी है.\"\n",
    "sentence = \"Translate this hindi sentence to english - बिल्ली बहुत प्यारी है.\"\n",
    "# sentence = \"The cat is cute. 猫很可爱. बिल्ली बहुत प्यारी है. නර්තනය ඉතා ආදරේ.\"\n",
    "print(tokenizer.pre_tokenize(sentence))"
   ]
  },
  {
   "cell_type": "code",
   "execution_count": 15,
   "metadata": {},
   "outputs": [
    {
     "data": {
      "text/plain": [
       "65"
      ]
     },
     "execution_count": 15,
     "metadata": {},
     "output_type": "execute_result"
    }
   ],
   "source": [
    "len(sentence)"
   ]
  },
  {
   "cell_type": "code",
   "execution_count": 16,
   "metadata": {},
   "outputs": [
    {
     "data": {
      "text/plain": [
       "25000"
      ]
     },
     "execution_count": 16,
     "metadata": {},
     "output_type": "execute_result"
    }
   ],
   "source": [
    "tokenizer.get_vocab_size()"
   ]
  },
  {
   "cell_type": "code",
   "execution_count": 17,
   "metadata": {},
   "outputs": [],
   "source": [
    "ids, tokens = tokenizer.encode(sentence)"
   ]
  },
  {
   "cell_type": "code",
   "execution_count": 18,
   "metadata": {},
   "outputs": [
    {
     "name": "stdout",
     "output_type": "stream",
     "text": [
      "['<EN>', 'Tr', 'ans', 'l', 'ate', 'Ġthis', 'Ġhind', 'i', 'Ġsentence', 'Ġto', 'Ġeng', 'lish', '</EN>', 'Ġ', '<HI>', '-', 'Ġà¤¬', 'à¤¿', 'à¤²', 'à¥į', 'à¤²', 'à¥Ģ', 'Ġà¤¬à¤¹', 'à¥ģ', 'à¤¤', 'Ġà¤ª', 'à¥į', 'à¤¯', 'à¤¾', 'à¤°', 'à¥Ģ', 'Ġà¤¹', '</HI>', 'à', '¥', 'Ī', '.']\n",
      "[3, 7235, 6614, 86, 755, 775, 10763, 83, 19412, 276, 3602, 9113, 4, 231, 9, 23, 290, 277, 285, 282, 285, 273, 342, 286, 283, 294, 282, 292, 270, 272, 273, 287, 10, 167, 109, 241, 24]\n"
     ]
    }
   ],
   "source": [
    "print(tokens)\n",
    "print(ids)"
   ]
  },
  {
   "cell_type": "code",
   "execution_count": 19,
   "metadata": {},
   "outputs": [
    {
     "data": {
      "text/plain": [
       "37"
      ]
     },
     "execution_count": 19,
     "metadata": {},
     "output_type": "execute_result"
    }
   ],
   "source": [
    "len(tokens)"
   ]
  },
  {
   "cell_type": "code",
   "execution_count": 20,
   "metadata": {},
   "outputs": [
    {
     "data": {
      "text/plain": [
       "'Translate this hindi sentence to english - बिल्ली बहुत प्यारी है.'"
      ]
     },
     "execution_count": 20,
     "metadata": {},
     "output_type": "execute_result"
    }
   ],
   "source": [
    "tokenizer.decode(ids)"
   ]
  },
  {
   "cell_type": "code",
   "execution_count": 21,
   "metadata": {},
   "outputs": [
    {
     "data": {
      "text/plain": [
       "'Translate this hindi sentence to english - बिल्ली बहुत प्यारी है.'"
      ]
     },
     "execution_count": 21,
     "metadata": {},
     "output_type": "execute_result"
    }
   ],
   "source": [
    "sentence"
   ]
  },
  {
   "cell_type": "code",
   "execution_count": 22,
   "metadata": {},
   "outputs": [
    {
     "name": "stderr",
     "output_type": "stream",
     "text": [
      "Special tokens have been added in the vocabulary, make sure the associated word embeddings are fine-tuned or trained.\n"
     ]
    }
   ],
   "source": [
    "from transformers import AutoTokenizer\n",
    "\n",
    "aya_tokenizer = AutoTokenizer.from_pretrained(\"CohereForAI/aya-23-8B\")"
   ]
  },
  {
   "cell_type": "code",
   "execution_count": 23,
   "metadata": {},
   "outputs": [
    {
     "name": "stdout",
     "output_type": "stream",
     "text": [
      "24 ['Translate', 'Ġthis', 'Ġhindi', 'Ġsentence', 'Ġto', 'Ġenglish', 'Ġ-', 'Ġà¤¬', 'à¤¿', 'à¤²', 'à¥į', 'à¤²', 'à¥Ģ', 'Ġà¤¬à¤¹', 'à¥ģ', 'à¤¤', 'Ġà¤ª', 'à¥į', 'à¤¯', 'à¤¾', 'à¤°', 'à¥Ģ', 'Ġà¤¹', 'à¥Ī.']\n"
     ]
    }
   ],
   "source": [
    "tokens = aya_tokenizer.tokenize(sentence)\n",
    "print(len(tokens), tokens)"
   ]
  },
  {
   "cell_type": "code",
   "execution_count": 13,
   "metadata": {},
   "outputs": [
    {
     "data": {
      "text/plain": [
       "255029"
      ]
     },
     "execution_count": 13,
     "metadata": {},
     "output_type": "execute_result"
    }
   ],
   "source": [
    "len(aya_tokenizer.get_vocab())"
   ]
  },
  {
   "cell_type": "code",
   "execution_count": null,
   "metadata": {},
   "outputs": [],
   "source": []
  }
 ],
 "metadata": {
  "kernelspec": {
   "display_name": "multi-tokenizer",
   "language": "python",
   "name": "python3"
  },
  "language_info": {
   "codemirror_mode": {
    "name": "ipython",
    "version": 3
   },
   "file_extension": ".py",
   "mimetype": "text/x-python",
   "name": "python",
   "nbconvert_exporter": "python",
   "pygments_lexer": "ipython3",
   "version": "3.12.4"
  }
 },
 "nbformat": 4,
 "nbformat_minor": 2
}
