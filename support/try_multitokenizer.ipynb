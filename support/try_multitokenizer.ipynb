{
 "cells": [
  {
   "cell_type": "code",
   "execution_count": 1,
   "metadata": {},
   "outputs": [],
   "source": [
    "from multi_tokenizer import MultiTokenizer, PretrainedTokenizers"
   ]
  },
  {
   "cell_type": "code",
   "execution_count": 2,
   "metadata": {},
   "outputs": [],
   "source": [
    "lang_tokenizers = [\n",
    "    PretrainedTokenizers.ENGLISH,\n",
    "    PretrainedTokenizers.CHINESE,\n",
    "    PretrainedTokenizers.SPANISH\n",
    "]\n",
    "tokenizer = MultiTokenizer(lang_tokenizers)"
   ]
  },
  {
   "cell_type": "code",
   "execution_count": 3,
   "metadata": {},
   "outputs": [
    {
     "data": {
      "text/plain": [
       "[('<ZH>', (0, 1)),\n",
       " ('æĪĳçĪ±èĩªçĦ¶è¯Ńè¨Ģå¤ĦçĲĨ', (1, 9)),\n",
       " ('.', (9, 10)),\n",
       " ('Ġ', (10, 11)),\n",
       " ('</ZH>', (9, 10)),\n",
       " ('<ES>', (10, 11)),\n",
       " ('Me', (11, 13)),\n",
       " ('Ġencanta', (13, 21)),\n",
       " ('ĠNLP', (21, 25)),\n",
       " ('.', (25, 26)),\n",
       " ('</ES>', (24, 25))]"
      ]
     },
     "execution_count": 3,
     "metadata": {},
     "output_type": "execute_result"
    }
   ],
   "source": [
    "tokenizer.pre_tokenize(\"我爱自然语言处理. Me encanta NLP.\")"
   ]
  },
  {
   "cell_type": "code",
   "execution_count": null,
   "metadata": {},
   "outputs": [],
   "source": []
  }
 ],
 "metadata": {
  "kernelspec": {
   "display_name": "multi-tokenizer",
   "language": "python",
   "name": "python3"
  },
  "language_info": {
   "codemirror_mode": {
    "name": "ipython",
    "version": 3
   },
   "file_extension": ".py",
   "mimetype": "text/x-python",
   "name": "python",
   "nbconvert_exporter": "python",
   "pygments_lexer": "ipython3",
   "version": "3.12.4"
  }
 },
 "nbformat": 4,
 "nbformat_minor": 2
}
