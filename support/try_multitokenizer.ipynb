{
 "cells": [
  {
   "cell_type": "code",
   "execution_count": 16,
   "metadata": {},
   "outputs": [],
   "source": [
    "from multi_tokenizer import MultiTokenizer, PretrainedTokenizers"
   ]
  },
  {
   "cell_type": "code",
   "execution_count": 17,
   "metadata": {},
   "outputs": [],
   "source": [
    "lang_tokenizers = [\n",
    "    PretrainedTokenizers.ENGLISH,\n",
    "    PretrainedTokenizers.CHINESE,\n",
    "    PretrainedTokenizers.HINDI,\n",
    "]\n",
    "tokenizer = MultiTokenizer(lang_tokenizers, split_text=True)"
   ]
  },
  {
   "cell_type": "code",
   "execution_count": 34,
   "metadata": {},
   "outputs": [
    {
     "data": {
      "text/plain": [
       "[('<EN>', (0, 1)),\n",
       " ('Translate', (1, 10)),\n",
       " ('Ġthis', (10, 15)),\n",
       " ('Ġhindi', (15, 21)),\n",
       " ('Ġsentence', (21, 30)),\n",
       " ('Ġto', (30, 33)),\n",
       " ('Ġenglish', (33, 41)),\n",
       " ('</EN>', (39, 40)),\n",
       " ('<HI>', (41, 42)),\n",
       " ('-', (42, 43)),\n",
       " ('Ġà¤¬', (43, 45)),\n",
       " ('à¤¿', (45, 46)),\n",
       " ('à¤²', (46, 47)),\n",
       " ('à¥į', (47, 48)),\n",
       " ('à¤²', (48, 49)),\n",
       " ('à¥Ģ', (49, 50)),\n",
       " ('Ġà¤¬à¤¹', (50, 53)),\n",
       " ('à¥ģ', (53, 54)),\n",
       " ('à¤¤', (54, 55)),\n",
       " ('Ġà¤ª', (55, 57)),\n",
       " ('à¥į', (57, 58)),\n",
       " ('à¤¯', (58, 59)),\n",
       " ('à¤¾', (59, 60)),\n",
       " ('à¤°', (60, 61)),\n",
       " ('à¥Ģ', (61, 62)),\n",
       " ('Ġà¤¹', (62, 64)),\n",
       " ('</HI>', (62, 63))]"
      ]
     },
     "execution_count": 34,
     "metadata": {},
     "output_type": "execute_result"
    }
   ],
   "source": [
    "# sentence = \"The cat is cute. 猫很可爱. बिल्ली बहुत प्यारी है.\"\n",
    "sentence = \"Translate this hindi sentence to english - बिल्ली बहुत प्यारी है.\"\n",
    "# sentence = \"The cat is cute. 猫很可爱. बिल्ली बहुत प्यारी है. නර්තනය ඉතා ආදරේ.\"\n",
    "tokenizer.pre_tokenize(sentence)"
   ]
  },
  {
   "cell_type": "code",
   "execution_count": 36,
   "metadata": {},
   "outputs": [
    {
     "data": {
      "text/plain": [
       "48840"
      ]
     },
     "execution_count": 36,
     "metadata": {},
     "output_type": "execute_result"
    }
   ],
   "source": [
    "tokenizer.get_vocab_size()"
   ]
  },
  {
   "cell_type": "code",
   "execution_count": 37,
   "metadata": {},
   "outputs": [],
   "source": [
    "ids, tokens = tokenizer.encode(sentence)"
   ]
  },
  {
   "cell_type": "code",
   "execution_count": 38,
   "metadata": {},
   "outputs": [
    {
     "data": {
      "text/plain": [
       "['<EN>',\n",
       " 'Tr',\n",
       " 'ans',\n",
       " 'l',\n",
       " 'ate',\n",
       " 'Ġthis',\n",
       " 'Ġhind',\n",
       " 'i',\n",
       " 'Ġsentence',\n",
       " 'Ġto',\n",
       " 'Ġeng',\n",
       " 'lish',\n",
       " '</EN>',\n",
       " '<HI>',\n",
       " '-',\n",
       " 'Ġà¤¬',\n",
       " 'à¤¿',\n",
       " 'à¤²',\n",
       " 'à¥į',\n",
       " 'à¤²',\n",
       " 'à¥Ģ',\n",
       " 'Ġà¤¬à¤¹',\n",
       " 'à¥ģ',\n",
       " 'à¤¤',\n",
       " 'Ġà¤ª',\n",
       " 'à¥į',\n",
       " 'à¤¯',\n",
       " 'à¤¾',\n",
       " 'à¤°',\n",
       " 'à¥Ģ',\n",
       " 'Ġà¤¹',\n",
       " '</HI>']"
      ]
     },
     "execution_count": 38,
     "metadata": {},
     "output_type": "execute_result"
    }
   ],
   "source": [
    "tokens"
   ]
  },
  {
   "cell_type": "code",
   "execution_count": 39,
   "metadata": {},
   "outputs": [
    {
     "data": {
      "text/plain": [
       "'Translate this hindi sentence to english - बिल्ली बहुत प्यारी ह'"
      ]
     },
     "execution_count": 39,
     "metadata": {},
     "output_type": "execute_result"
    }
   ],
   "source": [
    "tokenizer.decode(ids)"
   ]
  },
  {
   "cell_type": "code",
   "execution_count": 40,
   "metadata": {},
   "outputs": [
    {
     "data": {
      "text/plain": [
       "'Translate this hindi sentence to english - बिल्ली बहुत प्यारी है.'"
      ]
     },
     "execution_count": 40,
     "metadata": {},
     "output_type": "execute_result"
    }
   ],
   "source": [
    "sentence"
   ]
  },
  {
   "cell_type": "code",
   "execution_count": null,
   "metadata": {},
   "outputs": [],
   "source": []
  },
  {
   "cell_type": "code",
   "execution_count": null,
   "metadata": {},
   "outputs": [],
   "source": []
  }
 ],
 "metadata": {
  "kernelspec": {
   "display_name": "multi-tokenizer",
   "language": "python",
   "name": "python3"
  },
  "language_info": {
   "codemirror_mode": {
    "name": "ipython",
    "version": 3
   },
   "file_extension": ".py",
   "mimetype": "text/x-python",
   "name": "python",
   "nbconvert_exporter": "python",
   "pygments_lexer": "ipython3",
   "version": "3.12.4"
  }
 },
 "nbformat": 4,
 "nbformat_minor": 2
}
