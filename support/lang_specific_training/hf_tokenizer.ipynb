{
 "cells": [
  {
   "cell_type": "markdown",
   "metadata": {},
   "source": [
    "### Training BPE based Tokenizer"
   ]
  },
  {
   "cell_type": "code",
   "execution_count": 10,
   "metadata": {},
   "outputs": [],
   "source": [
    "from tokenizers import Tokenizer\n",
    "from tokenizers.models import BPE\n",
    "tokenizer = Tokenizer(BPE(unk_token=\"<UNK>\"))"
   ]
  },
  {
   "cell_type": "code",
   "execution_count": 11,
   "metadata": {},
   "outputs": [],
   "source": [
    "t = Tokenizer.from_file('/workspaces/multi-tokenizer/multi_tokenizer/pretrained/english_tokenizer.json')"
   ]
  },
  {
   "cell_type": "code",
   "execution_count": 13,
   "metadata": {},
   "outputs": [
    {
     "data": {
      "text/plain": [
       "{'ĠMead': 16495,\n",
       " 'ĠBud': 11957,\n",
       " 'Ġhotter': 8919,\n",
       " 'Ġposed': 15320,\n",
       " 'Ġinter': 7928,\n",
       " 'Marta': 19882,\n",
       " 'eline': 10056,\n",
       " 'George': 5709,\n",
       " 'Ġpoun': 14096,\n",
       " 'rey': 7511,\n",
       " 'Ġhall': 3909,\n",
       " 'Ġfrosty': 18958,\n",
       " 'Ġpyram': 15947,\n",
       " 'dd': 554,\n",
       " 'Ġships': 8719,\n",
       " 'Chuck': 12993,\n",
       " 'Ġoverjoyed': 5555,\n",
       " 'Ġbaaed': 14712,\n",
       " 'ĠThatÃ¢': 7750,\n",
       " 'Ġshivers': 12969,\n",
       " 'Ġdevoured': 13792,\n",
       " 'Ġmuff': 3809,\n",
       " 'osquitoes': 13926,\n",
       " 'Ġpaddock': 15767,\n",
       " 'Ġsympathet': 17171,\n",
       " 'ched': 696,\n",
       " 'llies': 18295,\n",
       " 'Ġhissy': 18360,\n",
       " 'Ġsaltier': 19403,\n",
       " 'ą': 204,\n",
       " 'Ġumbrella': 3704,\n",
       " 'ature': 3131,\n",
       " 'Ġtaller': 4659,\n",
       " 'Ġnext': 1013,\n",
       " 'ĠKarl': 12875,\n",
       " 'Ġsquirm': 12850,\n",
       " 'Ġthin': 2268,\n",
       " 'Ġsquinted': 8806,\n",
       " 'Ġseated': 15216,\n",
       " 'Ġmommie': 18379,\n",
       " 'k': 85,\n",
       " 'ÅĵWeÃ¢': 9079,\n",
       " 'Ġtid': 2370,\n",
       " \".'\": 5708,\n",
       " 'Ġparade': 3842,\n",
       " 'Pain': 14954,\n",
       " 'ĠKaylee': 11899,\n",
       " 'Ġbackup': 15240,\n",
       " 'Stacey': 17016,\n",
       " 'Ġapologised': 8174,\n",
       " 'Ġknee': 2286,\n",
       " 'Ġeither': 3999,\n",
       " 'Ġtwenty': 7289,\n",
       " 'ĠMixing': 12729,\n",
       " 'Ġtaps': 11199,\n",
       " 'Win': 17966,\n",
       " 'Ġscowl': 17420,\n",
       " 'Ġdefeat': 9089,\n",
       " 'Ġfishies': 15440,\n",
       " 'ĠWhiskers': 4123,\n",
       " 'Then': 1494,\n",
       " 'ination': 2887,\n",
       " 'Ġpirate': 3238,\n",
       " 'Ġcu': 918,\n",
       " 'Ġcooperative': 14717,\n",
       " 'Ġheadlight': 18884,\n",
       " 'Megan': 12380,\n",
       " 'Ġhedgehog': 6277,\n",
       " 'ĠClarissa': 15890,\n",
       " 'Missy': 14674,\n",
       " 'Ġappreciative': 19423,\n",
       " 'Ġtune': 5629,\n",
       " 'Ġfeasts': 19621,\n",
       " 'Ġmakes': 1589,\n",
       " 'ergarten': 13075,\n",
       " 'Ġyoungest': 9585,\n",
       " 'Ġnods': 2585,\n",
       " 'Mart': 10008,\n",
       " 'Ġchoosing': 8626,\n",
       " 'ĠSomeday': 16404,\n",
       " 'When': 934,\n",
       " 'Lollipop': 20137,\n",
       " 'Ġpoor': 2673,\n",
       " 'ĠPipp': 6200,\n",
       " 'ĠQuick': 7719,\n",
       " 'Jasmine': 10973,\n",
       " 'Taste': 14002,\n",
       " 'Ġsmokestack': 16083,\n",
       " 'seed': 9253,\n",
       " 'Ġcontinuing': 11147,\n",
       " 'reliable': 18972,\n",
       " 'moving': 19189,\n",
       " 'Ġhooves': 9348,\n",
       " 'ĠBoop': 14172,\n",
       " 'Sister': 17932,\n",
       " 'Ġorange': 1952,\n",
       " 'Ġ13': 19573,\n",
       " 'ĠMusician': 19951,\n",
       " 'Ġmisunder': 15676,\n",
       " 'Paula': 9108,\n",
       " 'Ġisn': 4761,\n",
       " 'Ġpurpose': 8248,\n",
       " 'Excuse': 6097,\n",
       " 'ĠThose': 7252,\n",
       " 'Ġoverhead': 8495,\n",
       " 'Ġwonder': 1096,\n",
       " 'Ġ5': 8868,\n",
       " 'ĠGinaÃ¢': 19720,\n",
       " 'Ġdraining': 18816,\n",
       " 'raph': 12735,\n",
       " '¯': 118,\n",
       " 'Ġaccurate': 15973,\n",
       " 'Ġdrives': 6176,\n",
       " 'Ġdaughters': 13152,\n",
       " 'Ġpurple': 2107,\n",
       " 'ints': 14071,\n",
       " 'loved': 16271,\n",
       " 'ĠRyan': 7998,\n",
       " 'Casper': 16125,\n",
       " 'Ġprofusely': 16956,\n",
       " 'Ġtightness': 15513,\n",
       " 'yy': 14048,\n",
       " \"'d\": 2688,\n",
       " 'ĠCaw': 18739,\n",
       " 'Biggs': 20095,\n",
       " 'Ġnow': 981,\n",
       " 'Ġfittest': 20347,\n",
       " 'Will': 4927,\n",
       " 'onday': 12359,\n",
       " 'ĠPiper': 11607,\n",
       " 'Ġdrops': 4230,\n",
       " 'Ġsituations': 9195,\n",
       " 'Lori': 13969,\n",
       " 'Ġscanning': 19923,\n",
       " 'Ġwrong': 1435,\n",
       " 'Ġexchange': 9209,\n",
       " 'Ġimpatiently': 10386,\n",
       " 'ntrigued': 13350,\n",
       " 'Rel': 13986,\n",
       " 'ĠDoesn': 17436,\n",
       " 'Ġflippers': 10315,\n",
       " 'three': 14356,\n",
       " 'ĠStop': 5865,\n",
       " 'Ġmarve': 7944,\n",
       " 'Ġleads': 7391,\n",
       " 'Ġdecreased': 15926,\n",
       " 'Ġbuyers': 16897,\n",
       " 'ĠLotty': 18586,\n",
       " 'Ġpharma': 16971,\n",
       " 'olt': 19072,\n",
       " 'Ġwrinkle': 19692,\n",
       " 'Ethan': 13954,\n",
       " 'Ġuncertain': 13920,\n",
       " 'Ġtried': 744,\n",
       " 'Ġflut': 2520,\n",
       " 'zen': 5734,\n",
       " 'Patience': 17345,\n",
       " 'Ġreturns': 15576,\n",
       " 'ĠThink': 12318,\n",
       " 'Ġsimply': 8189,\n",
       " 'Ġchipped': 16601,\n",
       " 'Ġgrandp': 6734,\n",
       " 'Ġsunscreen': 7937,\n",
       " 'ĠReading': 11286,\n",
       " 'ux': 5733,\n",
       " 'Ġpapa': 8242,\n",
       " 'iffere': 10079,\n",
       " 'Ġsat': 1393,\n",
       " 'Mic': 14940,\n",
       " 'Ġparades': 19148,\n",
       " 'Ġcontest': 5758,\n",
       " 'osition': 19039,\n",
       " 'Ġcaptured': 15631,\n",
       " 'Ġrec': 2338,\n",
       " 'ĠSh': 4115,\n",
       " 'lys': 12720,\n",
       " 'Ġledge': 19356,\n",
       " 'Afterward': 15474,\n",
       " 'iques': 17604,\n",
       " 'ĠTap': 15106,\n",
       " 'ext': 3129,\n",
       " 'Ġcapes': 9744,\n",
       " 'Ġger': 7800,\n",
       " 'lly': 867,\n",
       " 'Mosquitoes': 16184,\n",
       " 'jack': 8129,\n",
       " 'Cleaning': 17487,\n",
       " 'Ġproper': 7266,\n",
       " 'ĠUnknown': 17226,\n",
       " 'Ġdeclared': 8199,\n",
       " 'Ġharbor': 4590,\n",
       " 'Ġreal': 980,\n",
       " 'Ġcookie': 2392,\n",
       " 'Ġnormal': 3216,\n",
       " 'ippery': 4316,\n",
       " 'Ġbank': 5751,\n",
       " 'Ġgross': 6782,\n",
       " 'Those': 6738,\n",
       " 'Ġhissing': 10788,\n",
       " 'Ġunkind': 9751,\n",
       " 'Ġadventurers': 11453,\n",
       " 'Ġpass': 2328,\n",
       " 'Ġmeaningful': 11636,\n",
       " 'Ġmanaged': 2980,\n",
       " 'Ġpluck': 12204,\n",
       " 'Ġclatter': 16544,\n",
       " 'Diamond': 17785,\n",
       " 'Ġfestivities': 20009,\n",
       " 'Ġlimping': 12532,\n",
       " 'Ġbookshelves': 14603,\n",
       " 'Ġpale': 3507,\n",
       " 'Ġcelebrate': 3616,\n",
       " 'Ġcrumbs': 6282,\n",
       " 'allist': 15195,\n",
       " 'wardrobe': 19114,\n",
       " 'Ġha': 307,\n",
       " 'Ġcomes': 2041,\n",
       " 'Ġgent': 1498,\n",
       " 'arshmallow': 6546,\n",
       " 'ĠJean': 8946,\n",
       " 'omile': 14099,\n",
       " 'ĠBox': 17349,\n",
       " 'Ġneater': 13372,\n",
       " 'Ġbuzzed': 6923,\n",
       " 'Ġslashed': 16668,\n",
       " 'Ġcat': 714,\n",
       " 'Ġtug': 4811,\n",
       " 'Ġatop': 9396,\n",
       " 'cias': 15698,\n",
       " 'Ġchin': 7813,\n",
       " 'Ġaisle': 8197,\n",
       " 'Ġtravelers': 17150,\n",
       " 'ĠletÃ¢': 5880,\n",
       " 'Ġpiles': 5615,\n",
       " 'Ġmotionless': 17290,\n",
       " 'Ġwhisp': 2647,\n",
       " 'Ġimaginary': 7826,\n",
       " 'ĠAsk': 16878,\n",
       " 'ient': 1330,\n",
       " 'Ġset': 1388,\n",
       " 'Ġstepped': 1776,\n",
       " 'Ġbarked': 2466,\n",
       " 'Ġbulls': 12955,\n",
       " 'Ġbaking': 4509,\n",
       " 'Ġzero': 5463,\n",
       " 'Din': 12108,\n",
       " 'ĠWinston': 13047,\n",
       " 'If': 4008,\n",
       " 'Ġmuseums': 15704,\n",
       " 'yers': 14050,\n",
       " 'ĠJolene': 16070,\n",
       " 'ĠNosy': 11536,\n",
       " 'Ġgrunted': 13136,\n",
       " 'Ġunicycle': 20394,\n",
       " 'Ġwings': 1889,\n",
       " 'Ġdarlings': 8376,\n",
       " 'Ġbutton': 2187,\n",
       " 'Ġdecorated': 5706,\n",
       " 'Ġdiscussing': 7716,\n",
       " 'Ġguinea': 16940,\n",
       " 'Ġquick': 1077,\n",
       " 'Ġcolorful': 1748,\n",
       " 'Ġscr': 2684,\n",
       " 'Ġmatches': 5156,\n",
       " 'Ġwavered': 18173,\n",
       " 'Ġorchard': 9894,\n",
       " 'ĠPerhaps': 17521,\n",
       " 'Ġenters': 17001,\n",
       " 'Ġsquint': 18913,\n",
       " 'Ġleftover': 13549,\n",
       " 'ĠSale': 11763,\n",
       " 'Ġurged': 5784,\n",
       " 'ept': 6703,\n",
       " 'ĠStrawberry': 19201,\n",
       " 'ĠZigzag': 9592,\n",
       " 'Ġpuppeteer': 19558,\n",
       " 'Ġguitars': 10162,\n",
       " 'ĠToday': 3254,\n",
       " 'ĠUn': 4599,\n",
       " 'orus': 14121,\n",
       " 'onnie': 8479,\n",
       " 'ĠSuna': 13323,\n",
       " 'imi': 4618,\n",
       " 'aret': 7811,\n",
       " 'Ġcabin': 2981,\n",
       " 'Ġdoes': 1171,\n",
       " 'Ġstubb': 3162,\n",
       " 'ĠwhatÃ¢': 8582,\n",
       " 'Zigzag': 17985,\n",
       " 'chini': 15189,\n",
       " 'onies': 7320,\n",
       " 'Ġmeas': 4027,\n",
       " 'ĠPr': 7159,\n",
       " 'Ġrem': 906,\n",
       " 'Ġsincere': 9076,\n",
       " 'agged': 11081,\n",
       " 'Ġcontained': 11881,\n",
       " 'Peggy': 10215,\n",
       " 'Ġphra': 13579,\n",
       " 'Whose': 12939,\n",
       " 'Ġhippos': 10634,\n",
       " 'ĠJudy': 7040,\n",
       " 'Ġrace': 1756,\n",
       " 'Ġcountertops': 17653,\n",
       " 'ime': 402,\n",
       " 'Ġhigh': 1151,\n",
       " 'ĠWill': 4198,\n",
       " 'en': 304,\n",
       " 'ito': 4568,\n",
       " 'aya': 16383,\n",
       " 'ĠTrying': 18234,\n",
       " 'Ġsqueaking': 19493,\n",
       " 'Ġmentioned': 5663,\n",
       " 'Ġairy': 18988,\n",
       " 'Ġflung': 18590,\n",
       " 'Ġmixture': 6723,\n",
       " 'imum': 18281,\n",
       " 'Ġtheatre': 8375,\n",
       " 'Ġzagging': 15466,\n",
       " 'Ġcomfortable': 2690,\n",
       " 'inkle': 7816,\n",
       " 'Ġsplint': 14421,\n",
       " 'Ġqu': 753,\n",
       " 'Ġblanket': 1730,\n",
       " 'Ind': 13960,\n",
       " 'Ġcommunicated': 19665,\n",
       " 'ĠZoey': 8172,\n",
       " 'Sammy': 4852,\n",
       " 'ĠGwen': 16810,\n",
       " 'ÅĵDonÃ¢': 5905,\n",
       " 'ody': 6032,\n",
       " 'ises': 1678,\n",
       " 'Ġsweeping': 13060,\n",
       " 'ĠSophia': 6783,\n",
       " 'Ġplanes': 4977,\n",
       " 'ĠMove': 12727,\n",
       " 'Ġaahed': 18143,\n",
       " 'Qu': 5128,\n",
       " 'ĠJacky': 6736,\n",
       " 'Ġinsistent': 11209,\n",
       " 'Ġsunf': 3020,\n",
       " 'Jessie': 8045,\n",
       " 'ĠteacherÃ¢': 16965,\n",
       " 'Ġmentioning': 17239,\n",
       " 'Ġsongs': 2411,\n",
       " 'Ġinfl': 19439,\n",
       " 'Ġrepl': 1087,\n",
       " 'imals': 11432,\n",
       " 'bag': 14009,\n",
       " 'ĠDiamonds': 20115,\n",
       " 'Ġpotty': 11910,\n",
       " 'Ġbottom': 2928,\n",
       " 'Ġbeams': 13038,\n",
       " 'Ġsmirking': 18438,\n",
       " 'Ġdying': 14087,\n",
       " 'Dad': 2541,\n",
       " 'ĠEventually': 3876,\n",
       " 'Ġinvolved': 10708,\n",
       " 'ners': 6677,\n",
       " 'Ġsips': 11013,\n",
       " 'Ġposted': 13646,\n",
       " 'Ġholes': 3953,\n",
       " 'ĠBeartie': 15617,\n",
       " 'Ġdan': 927,\n",
       " 'Ġhealthy': 2213,\n",
       " 'Ġtruthful': 15682,\n",
       " 'Ġintroduc': 5430,\n",
       " 'ĠWings': 10539,\n",
       " 'Ġseeking': 12240,\n",
       " 'ĠJune': 6821,\n",
       " 'al': 409,\n",
       " 'Ġtomato': 3463,\n",
       " 'Ġdrooped': 16860,\n",
       " 'Ġuncle': 3484,\n",
       " 'Both': 9100,\n",
       " 'Ġshook': 1971,\n",
       " 'Ġhockey': 3978,\n",
       " 'Ġhomes': 5044,\n",
       " 'Ġnormally': 11545,\n",
       " 'umber': 2221,\n",
       " 'Ġmountains': 5478,\n",
       " 'Ġbug': 1459,\n",
       " 'Ġris': 10050,\n",
       " 'orous': 16416,\n",
       " 'Lenny': 11698,\n",
       " 'Ġembra': 8635,\n",
       " 'Ç': 142,\n",
       " 'may': 14023,\n",
       " 'Ġmysteries': 9296,\n",
       " 'Ġnetwork': 6396,\n",
       " 'ĠHonesty': 15962,\n",
       " 'Ġnimble': 18268,\n",
       " 'ĠBuddy': 4067,\n",
       " 'Ġide': 990,\n",
       " 'Ġopin': 5842,\n",
       " 'Ġdestro': 3509,\n",
       " 'Jon': 9103,\n",
       " 'atty': 11759,\n",
       " 'Ġcurvy': 17157,\n",
       " 'ĠLila': 1506,\n",
       " 'Ġtamb': 16322,\n",
       " 'reak': 18174,\n",
       " '¤': 108,\n",
       " 'icker': 15249,\n",
       " 'ulfed': 18991,\n",
       " 'Ġsmall': 803,\n",
       " 'hh': 13237,\n",
       " 'bbage': 14265,\n",
       " 'Ġdu': 15089,\n",
       " 'Ġchap': 14233,\n",
       " 'Chicky': 19469,\n",
       " 'iz': 796,\n",
       " 'Ġquantum': 18699,\n",
       " 'Ġjelly': 2778,\n",
       " 'Ġcurtain': 3985,\n",
       " 'Move': 11699,\n",
       " 'ĠGetting': 19619,\n",
       " 'Ġpurse': 3749,\n",
       " 'Ġgar': 2584,\n",
       " 'Ġzebras': 7584,\n",
       " 'ÅĵWhy': 6264,\n",
       " 'Ġwoodpecker': 9360,\n",
       " 'Ġchair': 1863,\n",
       " 'Ġchick': 2458,\n",
       " 'Ġcanceled': 17459,\n",
       " 'cuse': 6052,\n",
       " 'Sabrina': 12593,\n",
       " 'Ġplane': 2150,\n",
       " 'Ġjingled': 13789,\n",
       " 'J': 52,\n",
       " 'Ġcrispy': 10437,\n",
       " 'Ġprove': 7167,\n",
       " 'Ġdipping': 15585,\n",
       " 'ì': 179,\n",
       " 'Ġsavanna': 17372,\n",
       " 'Please': 2562,\n",
       " 'Ġcloud': 1655,\n",
       " 'ú': 193,\n",
       " 'unt': 2126,\n",
       " 'Ġshrunk': 7828,\n",
       " 'Ġproducts': 11652,\n",
       " 'bbies': 15322,\n",
       " 'Ġahold': 18142,\n",
       " 'Ġtheir': 461,\n",
       " '\\',\"': 14896,\n",
       " 'Close': 12461,\n",
       " 'Ġsolutions': 9966,\n",
       " 'Ġtrotted': 7590,\n",
       " 'Cheerful': 19836,\n",
       " 'Ġslides': 3531,\n",
       " 'ĠBloom': 11947,\n",
       " 'ka': 9829,\n",
       " 'ĠOak': 8815,\n",
       " 'Ġdump': 8057,\n",
       " 'Ġtickly': 10896,\n",
       " '<ES>': 5,\n",
       " 'Ġcuri': 1152,\n",
       " 'ĠFairy': 9700,\n",
       " 'ĠNadia': 13516,\n",
       " 'ĠBee': 7425,\n",
       " 'Frankie': 10688,\n",
       " 'Ġtread': 16573,\n",
       " 'Ġdisrupted': 17581,\n",
       " 'Ġinserted': 12561,\n",
       " 'Jonnie': 17843,\n",
       " 'Ġwasted': 6382,\n",
       " 'Ġeyes': 1072,\n",
       " 'omb': 8474,\n",
       " 'Ġhowling': 10093,\n",
       " 'vy': 12154,\n",
       " 'Months': 13064,\n",
       " 'Ġpolite': 2614,\n",
       " 'Ġape': 12910,\n",
       " 'Ġsquishing': 15461,\n",
       " 'ilight': 18245,\n",
       " 'ĠHome': 13333,\n",
       " 'Ġguidance': 11906,\n",
       " 'Ġheadset': 18883,\n",
       " 'ĠFido': 7685,\n",
       " 'Ġcomparison': 19016,\n",
       " 'Ġnest': 2006,\n",
       " 'ĠMark': 3044,\n",
       " 'Brenda': 17759,\n",
       " 'Ġbleed': 4933,\n",
       " 'boy': 14984,\n",
       " 'Ġcour': 1860,\n",
       " 'Shannon': 15753,\n",
       " 'iceLand': 16570,\n",
       " 'orried': 18287,\n",
       " 'Ġdrive': 2324,\n",
       " 'Ġfountain': 3260,\n",
       " 'NG': 10733,\n",
       " 'Ġchanged': 3421,\n",
       " 'Ġactivities': 6186,\n",
       " 'ĠSimp': 18275,\n",
       " 'fully': 1294,\n",
       " 'ears': 7237,\n",
       " 'ĠCovering': 19489,\n",
       " 'Ġached': 14061,\n",
       " 'Ġspite': 16522,\n",
       " 'Ġengulfed': 19353,\n",
       " 'Ġhorns': 6071,\n",
       " 'Ġreply': 6441,\n",
       " 'Luna': 10470,\n",
       " 'ĠTrue': 4498,\n",
       " 'Ġinse': 4552,\n",
       " 'Ġgrump': 9155,\n",
       " 'Milly': 6872,\n",
       " 'Ġprotection': 8928,\n",
       " 'fork': 13234,\n",
       " 'uffing': 16874,\n",
       " 'ator': 2569,\n",
       " 'Alicia': 13636,\n",
       " 'ĠMarshmallow': 10300,\n",
       " 'Ġfulf': 10242,\n",
       " 'ĠComb': 15363,\n",
       " 'Ġadvertisement': 16035,\n",
       " 'imet': 11359,\n",
       " 'Ġimagines': 12904,\n",
       " 'Ġvillage': 2433,\n",
       " 'ĠBess': 12710,\n",
       " 'Ġrowing': 10923,\n",
       " 'Ġcompromise': 9046,\n",
       " 'ĠDebby': 12051,\n",
       " 'Ġcaretaker': 10549,\n",
       " 'Ġearth': 3366,\n",
       " 'Match': 16179,\n",
       " 'Ġresponsibilities': 15833,\n",
       " 'Ġrudely': 16862,\n",
       " 'gr': 9226,\n",
       " 'Ē': 217,\n",
       " 'Ġmerma': 7451,\n",
       " 'Ġbacked': 6589,\n",
       " 'Ġsuppose': 12915,\n",
       " 'Ġdisobey': 8855,\n",
       " \",'\": 8857,\n",
       " 'llas': 8571,\n",
       " 'ĠMatilda': 9624,\n",
       " 'Ġcontracts': 16011,\n",
       " 'ĠShauna': 20053,\n",
       " '.\\'\"': 10668,\n",
       " 'ĠSissy': 12184,\n",
       " 'pler': 14242,\n",
       " 'Ġsword': 3093,\n",
       " 'Ġcaterpillar': 2914,\n",
       " 'Ġrattling': 14808,\n",
       " 'Ġrequire': 19487,\n",
       " 'Ġpetal': 9287,\n",
       " 'Ġhopping': 2720,\n",
       " 'fume': 5084,\n",
       " 'ĠĠĠĊ': 16320,\n",
       " 'keletons': 13674,\n",
       " 'ÅĵNext': 15392,\n",
       " 'Ġmarketplace': 19299,\n",
       " 'Ġnotice': 3229,\n",
       " 'ĠSunny': 5752,\n",
       " 'Ġshared': 1683,\n",
       " 'ought': 612,\n",
       " 'ĠHurray': 18303,\n",
       " 'ĠBarry': 10061,\n",
       " 'ires': 12347,\n",
       " 'Ġoutfit': 5826,\n",
       " 'ÅĵWhoÃ¢': 19756,\n",
       " 'Ġcouches': 14453,\n",
       " 'Ġtracks': 5359,\n",
       " 'ounced': 7437,\n",
       " 'Ġmask': 3628,\n",
       " 'ĠLacy': 11406,\n",
       " 'iving': 10022,\n",
       " 'ĠWilma': 13800,\n",
       " 'Ġsuccess': 2708,\n",
       " 'ĠSuccess': 16407,\n",
       " 'Ġrinse': 9986,\n",
       " 'Ġspooky': 7655,\n",
       " 'Ġpu': 848,\n",
       " 'Ġblaring': 18613,\n",
       " 'S': 61,\n",
       " 'Ġsearched': 2130,\n",
       " 'Ġslithery': 19701,\n",
       " 'ng': 1176,\n",
       " 'pected': 5892,\n",
       " 'ĠDaddy': 1864,\n",
       " 'rier': 7424,\n",
       " 'ĠMidnight': 10805,\n",
       " 'Ġresol': 12725,\n",
       " 'Ġwerebe': 15209,\n",
       " 'flying': 17398,\n",
       " 'ĠFixing': 18648,\n",
       " 'Ġmultip': 14843,\n",
       " 'Emmy': 8933,\n",
       " 'ĠDora': 9404,\n",
       " 'Ġwritten': 6043,\n",
       " 'writing': 18114,\n",
       " 'Ġansw': 1736,\n",
       " 'Ġgri': 12176,\n",
       " 'Ġhands': 1067,\n",
       " 'Ġerupt': 9439,\n",
       " 'Nadia': 14949,\n",
       " 'Ġnear': 1106,\n",
       " 'Ġhurried': 5602,\n",
       " 'Tina': 6998,\n",
       " 'ĠPandas': 15413,\n",
       " 'tocked': 16299,\n",
       " 'Ġsaws': 16508,\n",
       " 'Puss': 17915,\n",
       " 'Ġgrandfather': 7769,\n",
       " 'vation': 18107,\n",
       " 'Ġeyeb': 14353,\n",
       " 'Ġwax': 10034,\n",
       " 'Ġwilling': 6762,\n",
       " 'ĠCable': 11846,\n",
       " 'brown': 19085,\n",
       " 'pped': 608,\n",
       " 'ĠSoap': 16710,\n",
       " 'Ļ': 258,\n",
       " 'Ġjewels': 5125,\n",
       " 'Ġsmoot': 10355,\n",
       " 'Ġperse': 12323,\n",
       " 'Ġrubbers': 19347,\n",
       " 'Ġsandbag': 18933,\n",
       " 'dvent': 11718,\n",
       " 'Ġsmell': 1387,\n",
       " 'Ġintense': 15325,\n",
       " 'ÅĵBe': 9157,\n",
       " 'Ġrunway': 14271,\n",
       " 'Bessie': 13946,\n",
       " 'inery': 18165,\n",
       " 'ara': 657,\n",
       " 'ĠSplat': 19655,\n",
       " 'spread': 16912,\n",
       " 'Ġtagging': 17096,\n",
       " 'Ġdesper': 7756,\n",
       " 'Ġdespair': 12896,\n",
       " 'Ġsail': 1561,\n",
       " 'Luck': 16167,\n",
       " 'Ġsprite': 19081,\n",
       " 'Ġbaby': 1514,\n",
       " 'ĠMan': 8486,\n",
       " 'Ġrobber': 7309,\n",
       " 'toot': 16983,\n",
       " 'ĠYou': 564,\n",
       " 'Ġgoodnight': 5928,\n",
       " 'Ġairpl': 4718,\n",
       " 'oline': 6392,\n",
       " 'Ġmoles': 18693,\n",
       " 'Paola': 14811,\n",
       " 'Soon': 2387,\n",
       " 'Ġdandel': 11021,\n",
       " 'Ġmailing': 11502,\n",
       " 'ĠJanelle': 13722,\n",
       " 'ĠThere': 1501,\n",
       " 'Ġgenerous': 2702,\n",
       " 'Ġrefle': 6770,\n",
       " 'Ġlounging': 17677,\n",
       " 'Ġbeings': 16443,\n",
       " 'ches': 1948,\n",
       " 'Ġpulled': 1660,\n",
       " 'Ġflew': 944,\n",
       " 'Ġchasing': 3615,\n",
       " 'Emily': 5387,\n",
       " 'Ġventure': 9194,\n",
       " 'plash': 10085,\n",
       " 'ĠFirefighters': 16090,\n",
       " 'Ġsets': 8423,\n",
       " 'Ġremained': 5161,\n",
       " 'Ġbrilli': 2922,\n",
       " 'Ġlemonade': 4523,\n",
       " 'Ġsmoothest': 14764,\n",
       " 'Ġrelease': 5984,\n",
       " 'Ġtwirling': 5782,\n",
       " 'Do': 1995,\n",
       " 'Catch': 12107,\n",
       " 'Mummy': 3002,\n",
       " 'Ġclogged': 14276,\n",
       " 'ĠElephant': 10082,\n",
       " 'Ġsoups': 15559,\n",
       " 'ĠLee': 4376,\n",
       " 'Ġneck': 1898,\n",
       " 'Ġbeginnings': 15771,\n",
       " 'Ġenjoying': 3104,\n",
       " 'Ġfrees': 17099,\n",
       " 'Grandad': 15912,\n",
       " 'Ġsomeday': 4972,\n",
       " 'ĠWanda': 16568,\n",
       " 'Ġut': 16318,\n",
       " 'Ġtalk': 1571,\n",
       " 'Ġangle': 13625,\n",
       " 'chirp': 18401,\n",
       " 'Ġlure': 18187,\n",
       " 'op': 509,\n",
       " 'Ġagre': 1477,\n",
       " 'Ġsmoking': 8925,\n",
       " 'Joan': 15469,\n",
       " 'anation': 11765,\n",
       " 'Ġsusie': 18144,\n",
       " 'Ġmooed': 10429,\n",
       " 'osity': 5113,\n",
       " 'Ġdaisy': 5094,\n",
       " 'Ġbean': 3456,\n",
       " 'Ġpra': 4569,\n",
       " 'Ġbleeding': 5470,\n",
       " 'Ġcontented': 9938,\n",
       " 'Ġdumped': 10947,\n",
       " 'ige': 9391,\n",
       " 'Ġcompleted': 5679,\n",
       " 'Ġbrushed': 5498,\n",
       " 'ĠKarla': 11487,\n",
       " 'Ġfairy': 1850,\n",
       " 'utt': 10512,\n",
       " 'ary': 996,\n",
       " 'Ġsmoky': 11166,\n",
       " 'ĠBaa': 7873,\n",
       " 'ĠIsland': 11594,\n",
       " 'Ġradi': 14510,\n",
       " 'Ġgutter': 18249,\n",
       " 'Ġtraders': 13826,\n",
       " 'Ġmantelpiece': 20373,\n",
       " 'Meeting': 20011,\n",
       " 'Ġsnooty': 20384,\n",
       " 'Ġstriking': 9184,\n",
       " 'Hank': 11696,\n",
       " 'Ġent': 2203,\n",
       " 'Ġexhib': 9532,\n",
       " 'Ġstormed': 14342,\n",
       " 'gain': 7859,\n",
       " 'iled': 6583,\n",
       " 'Ġflowing': 8588,\n",
       " 'Ġrearr': 14185,\n",
       " 'Ġruins': 15481,\n",
       " 'Ġstairways': 17288,\n",
       " 'Ġrect': 13375,\n",
       " 'ĠThenry': 16738,\n",
       " 'iko': 11232,\n",
       " 'Ġunatt': 15422,\n",
       " 'Ġsearching': 3308,\n",
       " 'Ġwillingness': 17323,\n",
       " 'Ġnanny': 9243,\n",
       " 'Ġaff': 6379,\n",
       " 'fuse': 18471,\n",
       " 'Ġpatchy': 19354,\n",
       " 'Ġshower': 4532,\n",
       " 'orial': 19730,\n",
       " 'Ġpride': 4967,\n",
       " 'Ġpinecone': 17588,\n",
       " 'Ġwisely': 7765,\n",
       " 'sama': 13258,\n",
       " 'ĠPl': 6289,\n",
       " 'ĠTent': 18231,\n",
       " 'Ġshrugging': 15584,\n",
       " 'aying': 7037,\n",
       " 'ĠPhil': 9909,\n",
       " 'Ġcabinet': 4364,\n",
       " 'ĠRory': 11130,\n",
       " 'ĠSyl': 16406,\n",
       " 'Ġ\"': 344,\n",
       " 'ĠJess': 4593,\n",
       " 'Ġfascin': 5200,\n",
       " 'ĠKiki': 9167,\n",
       " 'ĠTeacher': 15870,\n",
       " 'Ġnapping': 7420,\n",
       " 'ĠRest': 16840,\n",
       " 'an': 310,\n",
       " 'Ġponytails': 19979,\n",
       " 'Ġanticipation': 7500,\n",
       " 'Ġstaircase': 12017,\n",
       " 'Ġcleaner': 7689,\n",
       " 'Ġfellow': 15251,\n",
       " 'Ġforces': 14163,\n",
       " 'bum': 14983,\n",
       " 'ĠTrudy': 15695,\n",
       " 'Ġdangerous': 1775,\n",
       " 'Ġtoothache': 19327,\n",
       " 'Ġtransplant': 19722,\n",
       " 'ĠFinders': 13807,\n",
       " 'Ġankles': 19728,\n",
       " 'Chom': 14584,\n",
       " 'Basil': 14906,\n",
       " 'Ġprivacy': 13081,\n",
       " 'Ġmaze': 4307,\n",
       " 'ms': 7660,\n",
       " 'Ġpatching': 19047,\n",
       " 'Ġaccident': 1814,\n",
       " 'Ġpotions': 12351,\n",
       " 'Ġhapp': 385,\n",
       " 'Ġdisappear': 4575,\n",
       " 'Ġpole': 4300,\n",
       " 'Ġharvested': 13078,\n",
       " 'gs': 4185,\n",
       " 'Ġcaptain': 4892,\n",
       " 'omes': 4822,\n",
       " 'Ġill': 8385,\n",
       " 'Ġtire': 3757,\n",
       " 'Zane': 14980,\n",
       " 'Ġsharpen': 13586,\n",
       " 'Despite': 11296,\n",
       " 'airy': 7891,\n",
       " 'Ġdrips': 13540,\n",
       " 'Ġdared': 6347,\n",
       " 'Ġunzipped': 13846,\n",
       " 'Ġsnows': 15507,\n",
       " 'uck': 621,\n",
       " 'Ġquokka': 16066,\n",
       " 'Ġdroplets': 17652,\n",
       " 'Ġdealing': 19614,\n",
       " 'Ġmuch': 723,\n",
       " 'Ġintric': 15324,\n",
       " 'Ġbristles': 12553,\n",
       " 'Ġsparrows': 17466,\n",
       " 'Ġflamingos': 20019,\n",
       " 'Ġignores': 11518,\n",
       " 'Ġstead': 10874,\n",
       " 'arkable': 12236,\n",
       " 'ĠBonnie': 9521,\n",
       " 'Animals': 19625,\n",
       " 'Molly': 2359,\n",
       " 'ivity': 6718,\n",
       " ']': 71,\n",
       " 'Ġbakery': 6487,\n",
       " 'ĠOllie': 5780,\n",
       " 'ÅĵThen': 18765,\n",
       " 'Wait': 4767,\n",
       " 'Ġsunsh': 18689,\n",
       " 'ond': 2180,\n",
       " 'elly': 2547,\n",
       " 'Ġrins': 16441,\n",
       " 'Ġscrape': 11229,\n",
       " 'dest': 13229,\n",
       " 'een': 2263,\n",
       " 'Ġdesert': 6269,\n",
       " 'Ġdra': 965,\n",
       " 'Everybody': 10885,\n",
       " 'ĠHeidi': 11040,\n",
       " 'ees': 16257,\n",
       " 'Ġchubby': 4191,\n",
       " 'Ġunt': 813,\n",
       " 'oose': 2314,\n",
       " 'Ġwrapped': 2993,\n",
       " 'Ġsquealed': 6281,\n",
       " 'ye': 3210,\n",
       " 'Ġpoisonous': 8941,\n",
       " 'Ama': 16099,\n",
       " 'May': 7069,\n",
       " 'Ġdumb': 9240,\n",
       " 'Ġcoughed': 9095,\n",
       " 'Ġhowled': 10836,\n",
       " 'ă': 202,\n",
       " 'Ġwalks': 2867,\n",
       " 'Ġmarriage': 5954,\n",
       " 'Kate': 6844,\n",
       " 'Ġmemb': 7613,\n",
       " 'Ġchilly': 7814,\n",
       " 'Ġraking': 10109,\n",
       " 'Ġsqueaky': 8534,\n",
       " 'Ġsicker': 11168,\n",
       " 'Ġuniformed': 15734,\n",
       " 'ĠPogo': 18830,\n",
       " 'ĠValley': 19538,\n",
       " 'Ġladle': 17019,\n",
       " 'amiliar': 9007,\n",
       " 'Swans': 19969,\n",
       " 'Not': 5424,\n",
       " 'Ġslows': 13548,\n",
       " 'Ġhappy': 412,\n",
       " 'net': 13248,\n",
       " 'Ġgrandma': 1483,\n",
       " 'Ġpant': 3365,\n",
       " 'Ġburger': 8107,\n",
       " 'ÅĵThe': 8156,\n",
       " 'ĠDependable': 13156,\n",
       " 'ĠRice': 15452,\n",
       " 'Ġflavors': 7308,\n",
       " 'Ġpist': 5142,\n",
       " 'ĠSur': 16402,\n",
       " 'Ġliz': 3199,\n",
       " 'ornn': 11766,\n",
       " 'arently': 17573,\n",
       " 'Ġaim': 7318,\n",
       " 'get': 535,\n",
       " 'Ġfreezing': 8108,\n",
       " 'Ġtweeted': 15830,\n",
       " 'ceptor': 12379,\n",
       " 'Ġhappens': 4664,\n",
       " 'Ġlonely': 1872,\n",
       " 'ĠSandy': 3840,\n",
       " 'ader': 16458,\n",
       " 'fish': 2123,\n",
       " 'ĠSusieÃ¢': 17115,\n",
       " 'cream': 3880,\n",
       " 'ĠoneÃ¢': 16628,\n",
       " 'Ġcheating': 10563,\n",
       " 'Gaby': 14924,\n",
       " 'ĠTweet': 2093,\n",
       " 'chair': 4313,\n",
       " 'lpful': 16535,\n",
       " 'Ġripe': 5982,\n",
       " 'Ġperk': 16863,\n",
       " 'Ġiceberg': 16900,\n",
       " 'Ġplayful': 3515,\n",
       " 'Ġprofessor': 14442,\n",
       " 'Ġavo': 3391,\n",
       " 'Ġrepeats': 8190,\n",
       " 'ories': 4371,\n",
       " 'Ġworks': 5162,\n",
       " 'ĠFlora': 8245,\n",
       " 'Freddie': 13027,\n",
       " 'Ġfabulous': 16060,\n",
       " 'Ġbalcony': 12928,\n",
       " 'aunted': 20251,\n",
       " 'uits': 11892,\n",
       " 'Ġfootprint': 13073,\n",
       " 'Ġclock': 3747,\n",
       " 'Pandy': 17899,\n",
       " 'ĠMica': 18429,\n",
       " 'Ġlooking': 1053,\n",
       " 'Ġcrown': 2862,\n",
       " 'ĠHoot': 6814,\n",
       " 'Ġmound': 12171,\n",
       " 'Ġech': 6351,\n",
       " 'Five': 12580,\n",
       " 'Ġel': 1478,\n",
       " 'Ġremember': 1062,\n",
       " 'strid': 13044,\n",
       " 'Ġchances': 10545,\n",
       " 'uddenly': 725,\n",
       " 'Ġlatest': 14865,\n",
       " 'Ġeverywhere': 1711,\n",
       " 'Ġtreats': 2499,\n",
       " 'squito': 4731,\n",
       " 'Ġgear': 5019,\n",
       " 'Ġcomplain': 4632,\n",
       " 'Ġbulbs': 9447,\n",
       " 'Ġproduc': 9477,\n",
       " 'Ġtriangle': 4104,\n",
       " 'Ġlaughter': 4843,\n",
       " 'Ł': 264,\n",
       " 'olin': 4184,\n",
       " 'ĠIm': 7870,\n",
       " 'ĠBernie': 13132,\n",
       " 'Ġtalons': 14369,\n",
       " 'Ù': 160,\n",
       " 'Ġplayer': 4304,\n",
       " 'cage': 5533,\n",
       " 'ship': 9040,\n",
       " 'ention': 3152,\n",
       " 'Ġsomewhat': 18526,\n",
       " 'Ġsnore': 14289,\n",
       " 'ĠKin': 13558,\n",
       " 'Ġshoppers': 16896,\n",
       " 'ety': 4760,\n",
       " 'Ġposts': 10164,\n",
       " 'Ġhourglass': 14661,\n",
       " 'ushes': 9542,\n",
       " 'ĠSensing': 18279,\n",
       " 'ö': 189,\n",
       " 'Ġwandering': 6319,\n",
       " 'Jennie': 14601,\n",
       " 'ĠCora': 10104,\n",
       " 'Ġpocket': 1880,\n",
       " 'Ġpetting': 8333,\n",
       " 'Ġcheap': 3370,\n",
       " 'angle': 8922,\n",
       " 'Ġsplas': 2347,\n",
       " 'Naught': 16188,\n",
       " 'Ġdozed': 9522,\n",
       " 'Ġfirework': 4352,\n",
       " 'ripe': 11774,\n",
       " 'ĠBird': 6147,\n",
       " 'ġ': 232,\n",
       " 'ï': 182,\n",
       " 'aids': 10165,\n",
       " 'Ġmodel': 5406,\n",
       " 'Ġext': 2956,\n",
       " 'Ġrestaurant': 3677,\n",
       " 'Ġneedles': 6358,\n",
       " 'ĠWelcome': 7934,\n",
       " 'Ġsledding': 12787,\n",
       " 'Ġtri': 1261,\n",
       " 'x': 98,\n",
       " 'ĠNicole': 18894,\n",
       " 'Ġgreat': 1084,\n",
       " 'Ġbeans': 4861,\n",
       " 'ellie': 9143,\n",
       " 'gu': 3790,\n",
       " 'Ġgiggles': 8164,\n",
       " 'Ġminer': 4873,\n",
       " 'Ġtoilet': 4148,\n",
       " 'Ġvolcanoes': 9952,\n",
       " 'toed': 11926,\n",
       " 'Ġhun': 1455,\n",
       " 'Ġsleds': 8903,\n",
       " 'ĠBob': 1131,\n",
       " 'Ġhurry': 3807,\n",
       " 'Ġadvent': 978,\n",
       " 'Ġswollen': 7573,\n",
       " 'Ġburying': 7957,\n",
       " 'Ġcasting': 14411,\n",
       " 'Ġeyeing': 15639,\n",
       " 'Ġbroken': 1492,\n",
       " 'artha': 7053,\n",
       " 'à': 167,\n",
       " ...}"
      ]
     },
     "execution_count": 13,
     "metadata": {},
     "output_type": "execute_result"
    }
   ],
   "source": [
    "t.get_vocab()"
   ]
  },
  {
   "cell_type": "code",
   "execution_count": 36,
   "metadata": {},
   "outputs": [],
   "source": [
    "from tokenizers.trainers import BpeTrainer\n",
    "trainer = BpeTrainer(special_tokens=[\"<UNK>\", \"<CLS>\", \"<SEP>\", \"<PAD>\", \"<MASK>\"])"
   ]
  },
  {
   "cell_type": "code",
   "execution_count": 37,
   "metadata": {},
   "outputs": [],
   "source": [
    "from tokenizers.pre_tokenizers import Whitespace, ByteLevel, BertPreTokenizer, Metaspace\n",
    "from tokenizers.processors import TemplateProcessing, BertProcessing\n",
    "# tokenizer.pre_tokenizer = Whitespace()\n",
    "# tokenizer.pre_tokenizer = ByteLevel()\n",
    "# tokenizer.pre_tokenizer = BertPreTokenizer()\n",
    "tokenizer.pre_tokenizer = Metaspace(replacement=\" \", prepend_scheme=\"never\")\n",
    "tokenizer.post_processor = TemplateProcessing(\n",
    "    single=\"<CLS> $A:1 <SEP>:1\",\n",
    "    pair=\"<CLS> $A:1 <SEP> $B:1 <SEP>\",\n",
    "    special_tokens=[(\"<CLS>\", 1), (\"<SEP>\", 2)],\n",
    ")"
   ]
  },
  {
   "cell_type": "code",
   "execution_count": 38,
   "metadata": {},
   "outputs": [
    {
     "data": {
      "text/plain": [
       "[('Hello,', (0, 6)),\n",
       " (\" y'all!\", (6, 13)),\n",
       " (' How', (13, 17)),\n",
       " (' are', (17, 21)),\n",
       " (' you', (21, 25)),\n",
       " (' 😁', (25, 27)),\n",
       " (' ?', (27, 29))]"
      ]
     },
     "execution_count": 38,
     "metadata": {},
     "output_type": "execute_result"
    }
   ],
   "source": [
    "tokenizer.pre_tokenizer.pre_tokenize_str(\"Hello, y'all! How are you 😁 ?\")"
   ]
  },
  {
   "cell_type": "code",
   "execution_count": 39,
   "metadata": {},
   "outputs": [],
   "source": [
    "from datasets import load_dataset\n",
    "dataset = load_dataset(\"wikitext\", name=\"wikitext-2-raw-v1\", split=\"train\")\n",
    "batch_size = 1000\n",
    "all_texts = [dataset[i : i + batch_size][\"text\"] for i in range(0, len(dataset), batch_size)]\n",
    "\n",
    "def batch_iterator():\n",
    "    for i in range(0, len(dataset), batch_size):\n",
    "        yield dataset[i : i + batch_size][\"text\"]"
   ]
  },
  {
   "cell_type": "code",
   "execution_count": 40,
   "metadata": {},
   "outputs": [
    {
     "name": "stdout",
     "output_type": "stream",
     "text": [
      "\n",
      "\n",
      "\n"
     ]
    }
   ],
   "source": [
    "tokenizer.train_from_iterator(batch_iterator(), trainer=trainer)"
   ]
  },
  {
   "cell_type": "code",
   "execution_count": 41,
   "metadata": {},
   "outputs": [],
   "source": [
    "# tokenizer.save(\"tokenizer-wiki.json\")"
   ]
  },
  {
   "cell_type": "code",
   "execution_count": 42,
   "metadata": {},
   "outputs": [],
   "source": [
    "# tokenizer = Tokenizer.from_file(\"tokenizer-wiki.json\")"
   ]
  },
  {
   "cell_type": "code",
   "execution_count": 43,
   "metadata": {},
   "outputs": [],
   "source": [
    "output = tokenizer.encode(\"Hello, y'all! How are you 😁?\")"
   ]
  },
  {
   "cell_type": "code",
   "execution_count": 44,
   "metadata": {},
   "outputs": [
    {
     "name": "stdout",
     "output_type": "stream",
     "text": [
      "['<CLS>', 'H', 'ello', ',', ' y', \"'\", 'all', '!', ' How', ' are', ' you', ' ', '<UNK>', '?', '<SEP>']\n"
     ]
    }
   ],
   "source": [
    "print(output.tokens)"
   ]
  },
  {
   "cell_type": "code",
   "execution_count": 45,
   "metadata": {},
   "outputs": [
    {
     "name": "stdout",
     "output_type": "stream",
     "text": [
      "[1, 46, 15853, 18, 1230, 13, 1191, 7, 4081, 1215, 2403, 6, 0, 37, 2]\n"
     ]
    }
   ],
   "source": [
    "print(output.ids)"
   ]
  },
  {
   "cell_type": "code",
   "execution_count": 46,
   "metadata": {},
   "outputs": [
    {
     "data": {
      "text/plain": [
       "\"H ello ,  y ' all !  How  are  you   ?\""
      ]
     },
     "execution_count": 46,
     "metadata": {},
     "output_type": "execute_result"
    }
   ],
   "source": [
    "tokenizer.decode(output.ids)"
   ]
  },
  {
   "cell_type": "markdown",
   "metadata": {},
   "source": [
    "### Training a Pretrained Tokenizer"
   ]
  },
  {
   "cell_type": "code",
   "execution_count": 1,
   "metadata": {},
   "outputs": [],
   "source": [
    "from datasets import load_dataset\n",
    "\n",
    "dataset = load_dataset(\"wikitext\", name=\"wikitext-2-raw-v1\", split=\"train\")\n",
    "batch_size = 1000\n",
    "all_texts = [dataset[i : i + batch_size][\"text\"] for i in range(0, len(dataset), batch_size)]\n",
    "def batch_iterator():\n",
    "    for i in range(0, len(dataset), batch_size):\n",
    "        yield dataset[i : i + batch_size][\"text\"]"
   ]
  },
  {
   "cell_type": "code",
   "execution_count": 4,
   "metadata": {},
   "outputs": [
    {
     "data": {
      "application/vnd.jupyter.widget-view+json": {
       "model_id": "ad31d74797cd49018d0cc3532143abc7",
       "version_major": 2,
       "version_minor": 0
      },
      "text/plain": [
       "VBox(children=(HTML(value='<center> <img\\nsrc=https://huggingface.co/front/assets/huggingface_logo-noborder.sv…"
      ]
     },
     "metadata": {},
     "output_type": "display_data"
    }
   ],
   "source": [
    "from huggingface_hub import login\n",
    "login()"
   ]
  },
  {
   "cell_type": "code",
   "execution_count": 5,
   "metadata": {},
   "outputs": [
    {
     "name": "stderr",
     "output_type": "stream",
     "text": [
      "None of PyTorch, TensorFlow >= 2.0, or Flax have been found. Models won't be available and only tokenizers, configuration and file/data utilities can be used.\n"
     ]
    },
    {
     "data": {
      "application/vnd.jupyter.widget-view+json": {
       "model_id": "1d071bbb02da401c8975b1423bbd2e9a",
       "version_major": 2,
       "version_minor": 0
      },
      "text/plain": [
       "tokenizer_config.json:   0%|          | 0.00/17.0k [00:00<?, ?B/s]"
      ]
     },
     "metadata": {},
     "output_type": "display_data"
    },
    {
     "data": {
      "application/vnd.jupyter.widget-view+json": {
       "model_id": "17412834d1e14d0aabeaa0422ce6d15a",
       "version_major": 2,
       "version_minor": 0
      },
      "text/plain": [
       "tokenizer.json:   0%|          | 0.00/16.5M [00:00<?, ?B/s]"
      ]
     },
     "metadata": {},
     "output_type": "display_data"
    },
    {
     "name": "stderr",
     "output_type": "stream",
     "text": [
      "Special tokens have been added in the vocabulary, make sure the associated word embeddings are fine-tuned or trained.\n"
     ]
    }
   ],
   "source": [
    "from transformers import AutoTokenizer\n",
    "\n",
    "tokenizer = AutoTokenizer.from_pretrained(\"CohereForAI/aya-23-8B\")"
   ]
  },
  {
   "cell_type": "code",
   "execution_count": 6,
   "metadata": {},
   "outputs": [
    {
     "data": {
      "text/plain": [
       "True"
      ]
     },
     "execution_count": 6,
     "metadata": {},
     "output_type": "execute_result"
    }
   ],
   "source": [
    "tokenizer.is_fast"
   ]
  },
  {
   "cell_type": "code",
   "execution_count": 8,
   "metadata": {},
   "outputs": [
    {
     "data": {
      "text/plain": [
       "255000"
      ]
     },
     "execution_count": 8,
     "metadata": {},
     "output_type": "execute_result"
    }
   ],
   "source": [
    "tokenizer.vocab_size"
   ]
  },
  {
   "cell_type": "code",
   "execution_count": 9,
   "metadata": {},
   "outputs": [],
   "source": [
    "new_tokenizer = tokenizer.train_new_from_iterator(batch_iterator(), vocab_size=25000)"
   ]
  },
  {
   "cell_type": "code",
   "execution_count": 11,
   "metadata": {},
   "outputs": [
    {
     "data": {
      "text/plain": [
       "\"<BOS_TOKEN>Hello, y'all! How are you 😁?\""
      ]
     },
     "execution_count": 11,
     "metadata": {},
     "output_type": "execute_result"
    }
   ],
   "source": [
    "tokenizer.decode(tokenizer.encode(\"Hello, y'all! How are you 😁?\"))"
   ]
  },
  {
   "cell_type": "code",
   "execution_count": 12,
   "metadata": {},
   "outputs": [
    {
     "data": {
      "text/plain": [
       "\"<BOS_TOKEN>Hello, y'all! How are you ���?\""
      ]
     },
     "execution_count": 12,
     "metadata": {},
     "output_type": "execute_result"
    }
   ],
   "source": [
    "new_tokenizer.decode(new_tokenizer.encode(\"Hello, y'all! How are you 😁?\"))"
   ]
  },
  {
   "cell_type": "code",
   "execution_count": 18,
   "metadata": {},
   "outputs": [
    {
     "data": {
      "text/plain": [
       "CohereTokenizerFast(name_or_path='CohereForAI/aya-23-8B', vocab_size=25000, model_max_length=1000000000000000019884624838656, is_fast=True, padding_side='left', truncation_side='right', special_tokens={'bos_token': '<BOS_TOKEN>', 'eos_token': '<|END_OF_TURN_TOKEN|>', 'pad_token': '<PAD>'}, clean_up_tokenization_spaces=False),  added_tokens_decoder={\n",
       "\t0: AddedToken(\"<PAD>\", rstrip=False, lstrip=False, single_word=False, normalized=False, special=True),\n",
       "\t1: AddedToken(\"<UNK>\", rstrip=False, lstrip=False, single_word=False, normalized=False, special=True),\n",
       "\t2: AddedToken(\"<CLS>\", rstrip=False, lstrip=False, single_word=False, normalized=False, special=True),\n",
       "\t3: AddedToken(\"<SEP>\", rstrip=False, lstrip=False, single_word=False, normalized=False, special=True),\n",
       "\t4: AddedToken(\"<MASK_TOKEN>\", rstrip=False, lstrip=False, single_word=False, normalized=False, special=True),\n",
       "\t5: AddedToken(\"<BOS_TOKEN>\", rstrip=False, lstrip=False, single_word=False, normalized=False, special=True),\n",
       "\t6: AddedToken(\"<EOS_TOKEN>\", rstrip=False, lstrip=False, single_word=False, normalized=False, special=True),\n",
       "\t7: AddedToken(\"<EOP_TOKEN>\", rstrip=False, lstrip=False, single_word=False, normalized=False, special=True),\n",
       "\t8: AddedToken(\"<|END_OF_TURN_TOKEN|>\", rstrip=False, lstrip=False, single_word=False, normalized=False, special=True),\n",
       "}"
      ]
     },
     "execution_count": 18,
     "metadata": {},
     "output_type": "execute_result"
    }
   ],
   "source": [
    "new_tokenizer"
   ]
  },
  {
   "cell_type": "code",
   "execution_count": 20,
   "metadata": {},
   "outputs": [
    {
     "data": {
      "text/plain": [
       "transformers.models.cohere.tokenization_cohere_fast.CohereTokenizerFast"
      ]
     },
     "execution_count": 20,
     "metadata": {},
     "output_type": "execute_result"
    }
   ],
   "source": [
    "type(new_tokenizer)"
   ]
  },
  {
   "cell_type": "markdown",
   "metadata": {},
   "source": [
    "## ByteLevelBPE Tokenizer"
   ]
  },
  {
   "cell_type": "code",
   "execution_count": 5,
   "metadata": {},
   "outputs": [],
   "source": [
    "from tokenizers import ByteLevelBPETokenizer"
   ]
  },
  {
   "cell_type": "code",
   "execution_count": 9,
   "metadata": {},
   "outputs": [
    {
     "data": {
      "application/vnd.jupyter.widget-view+json": {
       "model_id": "4bfcc8ca2be446aaaac35af056a51773",
       "version_major": 2,
       "version_minor": 0
      },
      "text/plain": [
       "Downloading data:   0%|          | 0.00/733k [00:00<?, ?B/s]"
      ]
     },
     "metadata": {},
     "output_type": "display_data"
    },
    {
     "data": {
      "application/vnd.jupyter.widget-view+json": {
       "model_id": "bdeaa57dc0074668b166ff9655b29854",
       "version_major": 2,
       "version_minor": 0
      },
      "text/plain": [
       "Downloading data:   0%|          | 0.00/157M [00:00<?, ?B/s]"
      ]
     },
     "metadata": {},
     "output_type": "display_data"
    },
    {
     "ename": "KeyboardInterrupt",
     "evalue": "",
     "output_type": "error",
     "traceback": [
      "\u001b[0;31m---------------------------------------------------------------------------\u001b[0m",
      "\u001b[0;31mKeyboardInterrupt\u001b[0m                         Traceback (most recent call last)",
      "Cell \u001b[0;32mIn[9], line 3\u001b[0m\n\u001b[1;32m      1\u001b[0m \u001b[38;5;28;01mfrom\u001b[39;00m \u001b[38;5;21;01mdatasets\u001b[39;00m \u001b[38;5;28;01mimport\u001b[39;00m load_dataset\n\u001b[0;32m----> 3\u001b[0m dataset \u001b[38;5;241m=\u001b[39m \u001b[43mload_dataset\u001b[49m\u001b[43m(\u001b[49m\u001b[38;5;124;43m\"\u001b[39;49m\u001b[38;5;124;43mwikitext\u001b[39;49m\u001b[38;5;124;43m\"\u001b[39;49m\u001b[43m,\u001b[49m\u001b[43m \u001b[49m\u001b[38;5;124;43m\"\u001b[39;49m\u001b[38;5;124;43mwikitext-103-raw-v1\u001b[39;49m\u001b[38;5;124;43m\"\u001b[39;49m\u001b[43m \u001b[49m\u001b[43m,\u001b[49m\u001b[43msplit\u001b[49m\u001b[38;5;241;43m=\u001b[39;49m\u001b[38;5;124;43m\"\u001b[39;49m\u001b[38;5;124;43mtrain\u001b[39;49m\u001b[38;5;124;43m\"\u001b[39;49m\u001b[43m)\u001b[49m\n\u001b[1;32m      4\u001b[0m batch_size \u001b[38;5;241m=\u001b[39m \u001b[38;5;241m1000\u001b[39m\n\u001b[1;32m      5\u001b[0m all_texts \u001b[38;5;241m=\u001b[39m [dataset[i : i \u001b[38;5;241m+\u001b[39m batch_size][\u001b[38;5;124m\"\u001b[39m\u001b[38;5;124mtext\u001b[39m\u001b[38;5;124m\"\u001b[39m] \u001b[38;5;28;01mfor\u001b[39;00m i \u001b[38;5;129;01min\u001b[39;00m \u001b[38;5;28mrange\u001b[39m(\u001b[38;5;241m0\u001b[39m, \u001b[38;5;28mlen\u001b[39m(dataset), batch_size)]\n",
      "File \u001b[0;32m/opt/conda/envs/multi-tokenizer/lib/python3.12/site-packages/datasets/load.py:2616\u001b[0m, in \u001b[0;36mload_dataset\u001b[0;34m(path, name, data_dir, data_files, split, cache_dir, features, download_config, download_mode, verification_mode, ignore_verifications, keep_in_memory, save_infos, revision, token, use_auth_token, task, streaming, num_proc, storage_options, trust_remote_code, **config_kwargs)\u001b[0m\n\u001b[1;32m   2613\u001b[0m     \u001b[38;5;28;01mreturn\u001b[39;00m builder_instance\u001b[38;5;241m.\u001b[39mas_streaming_dataset(split\u001b[38;5;241m=\u001b[39msplit)\n\u001b[1;32m   2615\u001b[0m \u001b[38;5;66;03m# Download and prepare data\u001b[39;00m\n\u001b[0;32m-> 2616\u001b[0m \u001b[43mbuilder_instance\u001b[49m\u001b[38;5;241;43m.\u001b[39;49m\u001b[43mdownload_and_prepare\u001b[49m\u001b[43m(\u001b[49m\n\u001b[1;32m   2617\u001b[0m \u001b[43m    \u001b[49m\u001b[43mdownload_config\u001b[49m\u001b[38;5;241;43m=\u001b[39;49m\u001b[43mdownload_config\u001b[49m\u001b[43m,\u001b[49m\n\u001b[1;32m   2618\u001b[0m \u001b[43m    \u001b[49m\u001b[43mdownload_mode\u001b[49m\u001b[38;5;241;43m=\u001b[39;49m\u001b[43mdownload_mode\u001b[49m\u001b[43m,\u001b[49m\n\u001b[1;32m   2619\u001b[0m \u001b[43m    \u001b[49m\u001b[43mverification_mode\u001b[49m\u001b[38;5;241;43m=\u001b[39;49m\u001b[43mverification_mode\u001b[49m\u001b[43m,\u001b[49m\n\u001b[1;32m   2620\u001b[0m \u001b[43m    \u001b[49m\u001b[43mnum_proc\u001b[49m\u001b[38;5;241;43m=\u001b[39;49m\u001b[43mnum_proc\u001b[49m\u001b[43m,\u001b[49m\n\u001b[1;32m   2621\u001b[0m \u001b[43m    \u001b[49m\u001b[43mstorage_options\u001b[49m\u001b[38;5;241;43m=\u001b[39;49m\u001b[43mstorage_options\u001b[49m\u001b[43m,\u001b[49m\n\u001b[1;32m   2622\u001b[0m \u001b[43m\u001b[49m\u001b[43m)\u001b[49m\n\u001b[1;32m   2624\u001b[0m \u001b[38;5;66;03m# Build dataset for splits\u001b[39;00m\n\u001b[1;32m   2625\u001b[0m keep_in_memory \u001b[38;5;241m=\u001b[39m (\n\u001b[1;32m   2626\u001b[0m     keep_in_memory \u001b[38;5;28;01mif\u001b[39;00m keep_in_memory \u001b[38;5;129;01mis\u001b[39;00m \u001b[38;5;129;01mnot\u001b[39;00m \u001b[38;5;28;01mNone\u001b[39;00m \u001b[38;5;28;01melse\u001b[39;00m is_small_dataset(builder_instance\u001b[38;5;241m.\u001b[39minfo\u001b[38;5;241m.\u001b[39mdataset_size)\n\u001b[1;32m   2627\u001b[0m )\n",
      "File \u001b[0;32m/opt/conda/envs/multi-tokenizer/lib/python3.12/site-packages/datasets/builder.py:1029\u001b[0m, in \u001b[0;36mDatasetBuilder.download_and_prepare\u001b[0;34m(self, output_dir, download_config, download_mode, verification_mode, ignore_verifications, try_from_hf_gcs, dl_manager, base_path, use_auth_token, file_format, max_shard_size, num_proc, storage_options, **download_and_prepare_kwargs)\u001b[0m\n\u001b[1;32m   1027\u001b[0m     \u001b[38;5;28;01mif\u001b[39;00m num_proc \u001b[38;5;129;01mis\u001b[39;00m \u001b[38;5;129;01mnot\u001b[39;00m \u001b[38;5;28;01mNone\u001b[39;00m:\n\u001b[1;32m   1028\u001b[0m         prepare_split_kwargs[\u001b[38;5;124m\"\u001b[39m\u001b[38;5;124mnum_proc\u001b[39m\u001b[38;5;124m\"\u001b[39m] \u001b[38;5;241m=\u001b[39m num_proc\n\u001b[0;32m-> 1029\u001b[0m     \u001b[38;5;28;43mself\u001b[39;49m\u001b[38;5;241;43m.\u001b[39;49m\u001b[43m_download_and_prepare\u001b[49m\u001b[43m(\u001b[49m\n\u001b[1;32m   1030\u001b[0m \u001b[43m        \u001b[49m\u001b[43mdl_manager\u001b[49m\u001b[38;5;241;43m=\u001b[39;49m\u001b[43mdl_manager\u001b[49m\u001b[43m,\u001b[49m\n\u001b[1;32m   1031\u001b[0m \u001b[43m        \u001b[49m\u001b[43mverification_mode\u001b[49m\u001b[38;5;241;43m=\u001b[39;49m\u001b[43mverification_mode\u001b[49m\u001b[43m,\u001b[49m\n\u001b[1;32m   1032\u001b[0m \u001b[43m        \u001b[49m\u001b[38;5;241;43m*\u001b[39;49m\u001b[38;5;241;43m*\u001b[39;49m\u001b[43mprepare_split_kwargs\u001b[49m\u001b[43m,\u001b[49m\n\u001b[1;32m   1033\u001b[0m \u001b[43m        \u001b[49m\u001b[38;5;241;43m*\u001b[39;49m\u001b[38;5;241;43m*\u001b[39;49m\u001b[43mdownload_and_prepare_kwargs\u001b[49m\u001b[43m,\u001b[49m\n\u001b[1;32m   1034\u001b[0m \u001b[43m    \u001b[49m\u001b[43m)\u001b[49m\n\u001b[1;32m   1035\u001b[0m \u001b[38;5;66;03m# Sync info\u001b[39;00m\n\u001b[1;32m   1036\u001b[0m \u001b[38;5;28mself\u001b[39m\u001b[38;5;241m.\u001b[39minfo\u001b[38;5;241m.\u001b[39mdataset_size \u001b[38;5;241m=\u001b[39m \u001b[38;5;28msum\u001b[39m(split\u001b[38;5;241m.\u001b[39mnum_bytes \u001b[38;5;28;01mfor\u001b[39;00m split \u001b[38;5;129;01min\u001b[39;00m \u001b[38;5;28mself\u001b[39m\u001b[38;5;241m.\u001b[39minfo\u001b[38;5;241m.\u001b[39msplits\u001b[38;5;241m.\u001b[39mvalues())\n",
      "File \u001b[0;32m/opt/conda/envs/multi-tokenizer/lib/python3.12/site-packages/datasets/builder.py:1102\u001b[0m, in \u001b[0;36mDatasetBuilder._download_and_prepare\u001b[0;34m(self, dl_manager, verification_mode, **prepare_split_kwargs)\u001b[0m\n\u001b[1;32m   1100\u001b[0m split_dict \u001b[38;5;241m=\u001b[39m SplitDict(dataset_name\u001b[38;5;241m=\u001b[39m\u001b[38;5;28mself\u001b[39m\u001b[38;5;241m.\u001b[39mdataset_name)\n\u001b[1;32m   1101\u001b[0m split_generators_kwargs \u001b[38;5;241m=\u001b[39m \u001b[38;5;28mself\u001b[39m\u001b[38;5;241m.\u001b[39m_make_split_generators_kwargs(prepare_split_kwargs)\n\u001b[0;32m-> 1102\u001b[0m split_generators \u001b[38;5;241m=\u001b[39m \u001b[38;5;28;43mself\u001b[39;49m\u001b[38;5;241;43m.\u001b[39;49m\u001b[43m_split_generators\u001b[49m\u001b[43m(\u001b[49m\u001b[43mdl_manager\u001b[49m\u001b[43m,\u001b[49m\u001b[43m \u001b[49m\u001b[38;5;241;43m*\u001b[39;49m\u001b[38;5;241;43m*\u001b[39;49m\u001b[43msplit_generators_kwargs\u001b[49m\u001b[43m)\u001b[49m\n\u001b[1;32m   1104\u001b[0m \u001b[38;5;66;03m# Checksums verification\u001b[39;00m\n\u001b[1;32m   1105\u001b[0m \u001b[38;5;28;01mif\u001b[39;00m verification_mode \u001b[38;5;241m==\u001b[39m VerificationMode\u001b[38;5;241m.\u001b[39mALL_CHECKS \u001b[38;5;129;01mand\u001b[39;00m dl_manager\u001b[38;5;241m.\u001b[39mrecord_checksums:\n",
      "File \u001b[0;32m/opt/conda/envs/multi-tokenizer/lib/python3.12/site-packages/datasets/packaged_modules/parquet/parquet.py:47\u001b[0m, in \u001b[0;36mParquet._split_generators\u001b[0;34m(self, dl_manager)\u001b[0m\n\u001b[1;32m     45\u001b[0m     \u001b[38;5;28;01mraise\u001b[39;00m \u001b[38;5;167;01mValueError\u001b[39;00m(\u001b[38;5;124mf\u001b[39m\u001b[38;5;124m\"\u001b[39m\u001b[38;5;124mAt least one data file must be specified, but got data_files=\u001b[39m\u001b[38;5;132;01m{\u001b[39;00m\u001b[38;5;28mself\u001b[39m\u001b[38;5;241m.\u001b[39mconfig\u001b[38;5;241m.\u001b[39mdata_files\u001b[38;5;132;01m}\u001b[39;00m\u001b[38;5;124m\"\u001b[39m)\n\u001b[1;32m     46\u001b[0m dl_manager\u001b[38;5;241m.\u001b[39mdownload_config\u001b[38;5;241m.\u001b[39mextract_on_the_fly \u001b[38;5;241m=\u001b[39m \u001b[38;5;28;01mTrue\u001b[39;00m\n\u001b[0;32m---> 47\u001b[0m data_files \u001b[38;5;241m=\u001b[39m \u001b[43mdl_manager\u001b[49m\u001b[38;5;241;43m.\u001b[39;49m\u001b[43mdownload_and_extract\u001b[49m\u001b[43m(\u001b[49m\u001b[38;5;28;43mself\u001b[39;49m\u001b[38;5;241;43m.\u001b[39;49m\u001b[43mconfig\u001b[49m\u001b[38;5;241;43m.\u001b[39;49m\u001b[43mdata_files\u001b[49m\u001b[43m)\u001b[49m\n\u001b[1;32m     48\u001b[0m splits \u001b[38;5;241m=\u001b[39m []\n\u001b[1;32m     49\u001b[0m \u001b[38;5;28;01mfor\u001b[39;00m split_name, files \u001b[38;5;129;01min\u001b[39;00m data_files\u001b[38;5;241m.\u001b[39mitems():\n",
      "File \u001b[0;32m/opt/conda/envs/multi-tokenizer/lib/python3.12/site-packages/datasets/download/download_manager.py:434\u001b[0m, in \u001b[0;36mDownloadManager.download_and_extract\u001b[0;34m(self, url_or_urls)\u001b[0m\n\u001b[1;32m    418\u001b[0m \u001b[38;5;28;01mdef\u001b[39;00m \u001b[38;5;21mdownload_and_extract\u001b[39m(\u001b[38;5;28mself\u001b[39m, url_or_urls):\n\u001b[1;32m    419\u001b[0m \u001b[38;5;250m    \u001b[39m\u001b[38;5;124;03m\"\"\"Download and extract given `url_or_urls`.\u001b[39;00m\n\u001b[1;32m    420\u001b[0m \n\u001b[1;32m    421\u001b[0m \u001b[38;5;124;03m    Is roughly equivalent to:\u001b[39;00m\n\u001b[0;32m   (...)\u001b[0m\n\u001b[1;32m    432\u001b[0m \u001b[38;5;124;03m        extracted_path(s): `str`, extracted paths of given URL(s).\u001b[39;00m\n\u001b[1;32m    433\u001b[0m \u001b[38;5;124;03m    \"\"\"\u001b[39;00m\n\u001b[0;32m--> 434\u001b[0m     \u001b[38;5;28;01mreturn\u001b[39;00m \u001b[38;5;28mself\u001b[39m\u001b[38;5;241m.\u001b[39mextract(\u001b[38;5;28;43mself\u001b[39;49m\u001b[38;5;241;43m.\u001b[39;49m\u001b[43mdownload\u001b[49m\u001b[43m(\u001b[49m\u001b[43murl_or_urls\u001b[49m\u001b[43m)\u001b[49m)\n",
      "File \u001b[0;32m/opt/conda/envs/multi-tokenizer/lib/python3.12/site-packages/datasets/download/download_manager.py:257\u001b[0m, in \u001b[0;36mDownloadManager.download\u001b[0;34m(self, url_or_urls)\u001b[0m\n\u001b[1;32m    255\u001b[0m start_time \u001b[38;5;241m=\u001b[39m datetime\u001b[38;5;241m.\u001b[39mnow()\n\u001b[1;32m    256\u001b[0m \u001b[38;5;28;01mwith\u001b[39;00m stack_multiprocessing_download_progress_bars():\n\u001b[0;32m--> 257\u001b[0m     downloaded_path_or_paths \u001b[38;5;241m=\u001b[39m \u001b[43mmap_nested\u001b[49m\u001b[43m(\u001b[49m\n\u001b[1;32m    258\u001b[0m \u001b[43m        \u001b[49m\u001b[43mdownload_func\u001b[49m\u001b[43m,\u001b[49m\n\u001b[1;32m    259\u001b[0m \u001b[43m        \u001b[49m\u001b[43murl_or_urls\u001b[49m\u001b[43m,\u001b[49m\n\u001b[1;32m    260\u001b[0m \u001b[43m        \u001b[49m\u001b[43mmap_tuple\u001b[49m\u001b[38;5;241;43m=\u001b[39;49m\u001b[38;5;28;43;01mTrue\u001b[39;49;00m\u001b[43m,\u001b[49m\n\u001b[1;32m    261\u001b[0m \u001b[43m        \u001b[49m\u001b[43mnum_proc\u001b[49m\u001b[38;5;241;43m=\u001b[39;49m\u001b[43mdownload_config\u001b[49m\u001b[38;5;241;43m.\u001b[39;49m\u001b[43mnum_proc\u001b[49m\u001b[43m,\u001b[49m\n\u001b[1;32m    262\u001b[0m \u001b[43m        \u001b[49m\u001b[43mdesc\u001b[49m\u001b[38;5;241;43m=\u001b[39;49m\u001b[38;5;124;43m\"\u001b[39;49m\u001b[38;5;124;43mDownloading data files\u001b[39;49m\u001b[38;5;124;43m\"\u001b[39;49m\u001b[43m,\u001b[49m\n\u001b[1;32m    263\u001b[0m \u001b[43m        \u001b[49m\u001b[43mbatched\u001b[49m\u001b[38;5;241;43m=\u001b[39;49m\u001b[38;5;28;43;01mTrue\u001b[39;49;00m\u001b[43m,\u001b[49m\n\u001b[1;32m    264\u001b[0m \u001b[43m        \u001b[49m\u001b[43mbatch_size\u001b[49m\u001b[38;5;241;43m=\u001b[39;49m\u001b[38;5;241;43m-\u001b[39;49m\u001b[38;5;241;43m1\u001b[39;49m\u001b[43m,\u001b[49m\n\u001b[1;32m    265\u001b[0m \u001b[43m    \u001b[49m\u001b[43m)\u001b[49m\n\u001b[1;32m    266\u001b[0m duration \u001b[38;5;241m=\u001b[39m datetime\u001b[38;5;241m.\u001b[39mnow() \u001b[38;5;241m-\u001b[39m start_time\n\u001b[1;32m    267\u001b[0m logger\u001b[38;5;241m.\u001b[39minfo(\u001b[38;5;124mf\u001b[39m\u001b[38;5;124m\"\u001b[39m\u001b[38;5;124mDownloading took \u001b[39m\u001b[38;5;132;01m{\u001b[39;00mduration\u001b[38;5;241m.\u001b[39mtotal_seconds()\u001b[38;5;250m \u001b[39m\u001b[38;5;241m/\u001b[39m\u001b[38;5;241m/\u001b[39m\u001b[38;5;250m \u001b[39m\u001b[38;5;241m60\u001b[39m\u001b[38;5;132;01m}\u001b[39;00m\u001b[38;5;124m min\u001b[39m\u001b[38;5;124m\"\u001b[39m)\n",
      "File \u001b[0;32m/opt/conda/envs/multi-tokenizer/lib/python3.12/site-packages/datasets/utils/py_utils.py:512\u001b[0m, in \u001b[0;36mmap_nested\u001b[0;34m(function, data_struct, dict_only, map_list, map_tuple, map_numpy, num_proc, parallel_min_length, batched, batch_size, types, disable_tqdm, desc)\u001b[0m\n\u001b[1;32m    509\u001b[0m         batch_size \u001b[38;5;241m=\u001b[39m \u001b[38;5;28mmax\u001b[39m(\u001b[38;5;28mlen\u001b[39m(iterable) \u001b[38;5;241m/\u001b[39m\u001b[38;5;241m/\u001b[39m num_proc \u001b[38;5;241m+\u001b[39m \u001b[38;5;28mint\u001b[39m(\u001b[38;5;28mlen\u001b[39m(iterable) \u001b[38;5;241m%\u001b[39m num_proc \u001b[38;5;241m>\u001b[39m \u001b[38;5;241m0\u001b[39m), \u001b[38;5;241m1\u001b[39m)\n\u001b[1;32m    510\u001b[0m     iterable \u001b[38;5;241m=\u001b[39m \u001b[38;5;28mlist\u001b[39m(iter_batched(iterable, batch_size))\n\u001b[1;32m    511\u001b[0m mapped \u001b[38;5;241m=\u001b[39m [\n\u001b[0;32m--> 512\u001b[0m     \u001b[43m_single_map_nested\u001b[49m\u001b[43m(\u001b[49m\u001b[43m(\u001b[49m\u001b[43mfunction\u001b[49m\u001b[43m,\u001b[49m\u001b[43m \u001b[49m\u001b[43mobj\u001b[49m\u001b[43m,\u001b[49m\u001b[43m \u001b[49m\u001b[43mbatched\u001b[49m\u001b[43m,\u001b[49m\u001b[43m \u001b[49m\u001b[43mbatch_size\u001b[49m\u001b[43m,\u001b[49m\u001b[43m \u001b[49m\u001b[43mtypes\u001b[49m\u001b[43m,\u001b[49m\u001b[43m \u001b[49m\u001b[38;5;28;43;01mNone\u001b[39;49;00m\u001b[43m,\u001b[49m\u001b[43m \u001b[49m\u001b[38;5;28;43;01mTrue\u001b[39;49;00m\u001b[43m,\u001b[49m\u001b[43m \u001b[49m\u001b[38;5;28;43;01mNone\u001b[39;49;00m\u001b[43m)\u001b[49m\u001b[43m)\u001b[49m\n\u001b[1;32m    513\u001b[0m     \u001b[38;5;28;01mfor\u001b[39;00m obj \u001b[38;5;129;01min\u001b[39;00m hf_tqdm(iterable, disable\u001b[38;5;241m=\u001b[39mdisable_tqdm, desc\u001b[38;5;241m=\u001b[39mdesc)\n\u001b[1;32m    514\u001b[0m ]\n\u001b[1;32m    515\u001b[0m \u001b[38;5;28;01mif\u001b[39;00m batched:\n\u001b[1;32m    516\u001b[0m     mapped \u001b[38;5;241m=\u001b[39m [mapped_item \u001b[38;5;28;01mfor\u001b[39;00m mapped_batch \u001b[38;5;129;01min\u001b[39;00m mapped \u001b[38;5;28;01mfor\u001b[39;00m mapped_item \u001b[38;5;129;01min\u001b[39;00m mapped_batch]\n",
      "File \u001b[0;32m/opt/conda/envs/multi-tokenizer/lib/python3.12/site-packages/datasets/utils/py_utils.py:399\u001b[0m, in \u001b[0;36m_single_map_nested\u001b[0;34m(args)\u001b[0m\n\u001b[1;32m    395\u001b[0m     \u001b[38;5;28;01mreturn\u001b[39;00m {\n\u001b[1;32m    396\u001b[0m         k: _single_map_nested((function, v, batched, batch_size, types, \u001b[38;5;28;01mNone\u001b[39;00m, \u001b[38;5;28;01mTrue\u001b[39;00m, \u001b[38;5;28;01mNone\u001b[39;00m)) \u001b[38;5;28;01mfor\u001b[39;00m k, v \u001b[38;5;129;01min\u001b[39;00m pbar\n\u001b[1;32m    397\u001b[0m     }\n\u001b[1;32m    398\u001b[0m \u001b[38;5;28;01melse\u001b[39;00m:\n\u001b[0;32m--> 399\u001b[0m     mapped \u001b[38;5;241m=\u001b[39m [\u001b[43m_single_map_nested\u001b[49m\u001b[43m(\u001b[49m\u001b[43m(\u001b[49m\u001b[43mfunction\u001b[49m\u001b[43m,\u001b[49m\u001b[43m \u001b[49m\u001b[43mv\u001b[49m\u001b[43m,\u001b[49m\u001b[43m \u001b[49m\u001b[43mbatched\u001b[49m\u001b[43m,\u001b[49m\u001b[43m \u001b[49m\u001b[43mbatch_size\u001b[49m\u001b[43m,\u001b[49m\u001b[43m \u001b[49m\u001b[43mtypes\u001b[49m\u001b[43m,\u001b[49m\u001b[43m \u001b[49m\u001b[38;5;28;43;01mNone\u001b[39;49;00m\u001b[43m,\u001b[49m\u001b[43m \u001b[49m\u001b[38;5;28;43;01mTrue\u001b[39;49;00m\u001b[43m,\u001b[49m\u001b[43m \u001b[49m\u001b[38;5;28;43;01mNone\u001b[39;49;00m\u001b[43m)\u001b[49m\u001b[43m)\u001b[49m \u001b[38;5;28;01mfor\u001b[39;00m v \u001b[38;5;129;01min\u001b[39;00m pbar]\n\u001b[1;32m    400\u001b[0m     \u001b[38;5;28;01mif\u001b[39;00m \u001b[38;5;28misinstance\u001b[39m(data_struct, \u001b[38;5;28mlist\u001b[39m):\n\u001b[1;32m    401\u001b[0m         \u001b[38;5;28;01mreturn\u001b[39;00m mapped\n",
      "File \u001b[0;32m/opt/conda/envs/multi-tokenizer/lib/python3.12/site-packages/datasets/utils/py_utils.py:380\u001b[0m, in \u001b[0;36m_single_map_nested\u001b[0;34m(args)\u001b[0m\n\u001b[1;32m    373\u001b[0m         \u001b[38;5;28;01mreturn\u001b[39;00m function(data_struct)\n\u001b[1;32m    374\u001b[0m \u001b[38;5;28;01mif\u001b[39;00m (\n\u001b[1;32m    375\u001b[0m     batched\n\u001b[1;32m    376\u001b[0m     \u001b[38;5;129;01mand\u001b[39;00m \u001b[38;5;129;01mnot\u001b[39;00m \u001b[38;5;28misinstance\u001b[39m(data_struct, \u001b[38;5;28mdict\u001b[39m)\n\u001b[1;32m    377\u001b[0m     \u001b[38;5;129;01mand\u001b[39;00m \u001b[38;5;28misinstance\u001b[39m(data_struct, types)\n\u001b[1;32m    378\u001b[0m     \u001b[38;5;129;01mand\u001b[39;00m \u001b[38;5;28mall\u001b[39m(\u001b[38;5;129;01mnot\u001b[39;00m \u001b[38;5;28misinstance\u001b[39m(v, (\u001b[38;5;28mdict\u001b[39m, types)) \u001b[38;5;28;01mfor\u001b[39;00m v \u001b[38;5;129;01min\u001b[39;00m data_struct)\n\u001b[1;32m    379\u001b[0m ):\n\u001b[0;32m--> 380\u001b[0m     \u001b[38;5;28;01mreturn\u001b[39;00m [mapped_item \u001b[38;5;28;01mfor\u001b[39;00m batch \u001b[38;5;129;01min\u001b[39;00m iter_batched(data_struct, batch_size) \u001b[38;5;28;01mfor\u001b[39;00m mapped_item \u001b[38;5;129;01min\u001b[39;00m \u001b[43mfunction\u001b[49m\u001b[43m(\u001b[49m\u001b[43mbatch\u001b[49m\u001b[43m)\u001b[49m]\n\u001b[1;32m    382\u001b[0m \u001b[38;5;66;03m# Reduce logging to keep things readable in multiprocessing with tqdm\u001b[39;00m\n\u001b[1;32m    383\u001b[0m \u001b[38;5;28;01mif\u001b[39;00m rank \u001b[38;5;129;01mis\u001b[39;00m \u001b[38;5;129;01mnot\u001b[39;00m \u001b[38;5;28;01mNone\u001b[39;00m \u001b[38;5;129;01mand\u001b[39;00m logging\u001b[38;5;241m.\u001b[39mget_verbosity() \u001b[38;5;241m<\u001b[39m logging\u001b[38;5;241m.\u001b[39mWARNING:\n",
      "File \u001b[0;32m/opt/conda/envs/multi-tokenizer/lib/python3.12/site-packages/datasets/download/download_manager.py:314\u001b[0m, in \u001b[0;36mDownloadManager._download_batched\u001b[0;34m(self, url_or_filenames, download_config)\u001b[0m\n\u001b[1;32m    300\u001b[0m     \u001b[38;5;28;01mreturn\u001b[39;00m thread_map(\n\u001b[1;32m    301\u001b[0m         download_func,\n\u001b[1;32m    302\u001b[0m         url_or_filenames,\n\u001b[0;32m   (...)\u001b[0m\n\u001b[1;32m    310\u001b[0m         tqdm_class\u001b[38;5;241m=\u001b[39mtqdm,\n\u001b[1;32m    311\u001b[0m     )\n\u001b[1;32m    312\u001b[0m \u001b[38;5;28;01melse\u001b[39;00m:\n\u001b[1;32m    313\u001b[0m     \u001b[38;5;28;01mreturn\u001b[39;00m [\n\u001b[0;32m--> 314\u001b[0m         \u001b[38;5;28;43mself\u001b[39;49m\u001b[38;5;241;43m.\u001b[39;49m\u001b[43m_download_single\u001b[49m\u001b[43m(\u001b[49m\u001b[43murl_or_filename\u001b[49m\u001b[43m,\u001b[49m\u001b[43m \u001b[49m\u001b[43mdownload_config\u001b[49m\u001b[38;5;241;43m=\u001b[39;49m\u001b[43mdownload_config\u001b[49m\u001b[43m)\u001b[49m\n\u001b[1;32m    315\u001b[0m         \u001b[38;5;28;01mfor\u001b[39;00m url_or_filename \u001b[38;5;129;01min\u001b[39;00m url_or_filenames\n\u001b[1;32m    316\u001b[0m     ]\n",
      "File \u001b[0;32m/opt/conda/envs/multi-tokenizer/lib/python3.12/site-packages/datasets/download/download_manager.py:323\u001b[0m, in \u001b[0;36mDownloadManager._download_single\u001b[0;34m(self, url_or_filename, download_config)\u001b[0m\n\u001b[1;32m    320\u001b[0m \u001b[38;5;28;01mif\u001b[39;00m is_relative_path(url_or_filename):\n\u001b[1;32m    321\u001b[0m     \u001b[38;5;66;03m# append the relative path to the base_path\u001b[39;00m\n\u001b[1;32m    322\u001b[0m     url_or_filename \u001b[38;5;241m=\u001b[39m url_or_path_join(\u001b[38;5;28mself\u001b[39m\u001b[38;5;241m.\u001b[39m_base_path, url_or_filename)\n\u001b[0;32m--> 323\u001b[0m out \u001b[38;5;241m=\u001b[39m \u001b[43mcached_path\u001b[49m\u001b[43m(\u001b[49m\u001b[43murl_or_filename\u001b[49m\u001b[43m,\u001b[49m\u001b[43m \u001b[49m\u001b[43mdownload_config\u001b[49m\u001b[38;5;241;43m=\u001b[39;49m\u001b[43mdownload_config\u001b[49m\u001b[43m)\u001b[49m\n\u001b[1;32m    324\u001b[0m out \u001b[38;5;241m=\u001b[39m tracked_str(out)\n\u001b[1;32m    325\u001b[0m out\u001b[38;5;241m.\u001b[39mset_origin(url_or_filename)\n",
      "File \u001b[0;32m/opt/conda/envs/multi-tokenizer/lib/python3.12/site-packages/datasets/utils/file_utils.py:201\u001b[0m, in \u001b[0;36mcached_path\u001b[0;34m(url_or_filename, download_config, **download_kwargs)\u001b[0m\n\u001b[1;32m    197\u001b[0m     url_or_filename \u001b[38;5;241m=\u001b[39m strip_protocol(url_or_filename)\n\u001b[1;32m    199\u001b[0m \u001b[38;5;28;01mif\u001b[39;00m is_remote_url(url_or_filename):\n\u001b[1;32m    200\u001b[0m     \u001b[38;5;66;03m# URL, so get it from the cache (downloading if necessary)\u001b[39;00m\n\u001b[0;32m--> 201\u001b[0m     output_path \u001b[38;5;241m=\u001b[39m \u001b[43mget_from_cache\u001b[49m\u001b[43m(\u001b[49m\n\u001b[1;32m    202\u001b[0m \u001b[43m        \u001b[49m\u001b[43murl_or_filename\u001b[49m\u001b[43m,\u001b[49m\n\u001b[1;32m    203\u001b[0m \u001b[43m        \u001b[49m\u001b[43mcache_dir\u001b[49m\u001b[38;5;241;43m=\u001b[39;49m\u001b[43mcache_dir\u001b[49m\u001b[43m,\u001b[49m\n\u001b[1;32m    204\u001b[0m \u001b[43m        \u001b[49m\u001b[43mforce_download\u001b[49m\u001b[38;5;241;43m=\u001b[39;49m\u001b[43mdownload_config\u001b[49m\u001b[38;5;241;43m.\u001b[39;49m\u001b[43mforce_download\u001b[49m\u001b[43m,\u001b[49m\n\u001b[1;32m    205\u001b[0m \u001b[43m        \u001b[49m\u001b[43mproxies\u001b[49m\u001b[38;5;241;43m=\u001b[39;49m\u001b[43mdownload_config\u001b[49m\u001b[38;5;241;43m.\u001b[39;49m\u001b[43mproxies\u001b[49m\u001b[43m,\u001b[49m\n\u001b[1;32m    206\u001b[0m \u001b[43m        \u001b[49m\u001b[43mresume_download\u001b[49m\u001b[38;5;241;43m=\u001b[39;49m\u001b[43mdownload_config\u001b[49m\u001b[38;5;241;43m.\u001b[39;49m\u001b[43mresume_download\u001b[49m\u001b[43m,\u001b[49m\n\u001b[1;32m    207\u001b[0m \u001b[43m        \u001b[49m\u001b[43muser_agent\u001b[49m\u001b[38;5;241;43m=\u001b[39;49m\u001b[43mdownload_config\u001b[49m\u001b[38;5;241;43m.\u001b[39;49m\u001b[43muser_agent\u001b[49m\u001b[43m,\u001b[49m\n\u001b[1;32m    208\u001b[0m \u001b[43m        \u001b[49m\u001b[43mlocal_files_only\u001b[49m\u001b[38;5;241;43m=\u001b[39;49m\u001b[43mdownload_config\u001b[49m\u001b[38;5;241;43m.\u001b[39;49m\u001b[43mlocal_files_only\u001b[49m\u001b[43m,\u001b[49m\n\u001b[1;32m    209\u001b[0m \u001b[43m        \u001b[49m\u001b[43muse_etag\u001b[49m\u001b[38;5;241;43m=\u001b[39;49m\u001b[43mdownload_config\u001b[49m\u001b[38;5;241;43m.\u001b[39;49m\u001b[43muse_etag\u001b[49m\u001b[43m,\u001b[49m\n\u001b[1;32m    210\u001b[0m \u001b[43m        \u001b[49m\u001b[43mmax_retries\u001b[49m\u001b[38;5;241;43m=\u001b[39;49m\u001b[43mdownload_config\u001b[49m\u001b[38;5;241;43m.\u001b[39;49m\u001b[43mmax_retries\u001b[49m\u001b[43m,\u001b[49m\n\u001b[1;32m    211\u001b[0m \u001b[43m        \u001b[49m\u001b[43mtoken\u001b[49m\u001b[38;5;241;43m=\u001b[39;49m\u001b[43mdownload_config\u001b[49m\u001b[38;5;241;43m.\u001b[39;49m\u001b[43mtoken\u001b[49m\u001b[43m,\u001b[49m\n\u001b[1;32m    212\u001b[0m \u001b[43m        \u001b[49m\u001b[43mignore_url_params\u001b[49m\u001b[38;5;241;43m=\u001b[39;49m\u001b[43mdownload_config\u001b[49m\u001b[38;5;241;43m.\u001b[39;49m\u001b[43mignore_url_params\u001b[49m\u001b[43m,\u001b[49m\n\u001b[1;32m    213\u001b[0m \u001b[43m        \u001b[49m\u001b[43mstorage_options\u001b[49m\u001b[38;5;241;43m=\u001b[39;49m\u001b[43mdownload_config\u001b[49m\u001b[38;5;241;43m.\u001b[39;49m\u001b[43mstorage_options\u001b[49m\u001b[43m,\u001b[49m\n\u001b[1;32m    214\u001b[0m \u001b[43m        \u001b[49m\u001b[43mdownload_desc\u001b[49m\u001b[38;5;241;43m=\u001b[39;49m\u001b[43mdownload_config\u001b[49m\u001b[38;5;241;43m.\u001b[39;49m\u001b[43mdownload_desc\u001b[49m\u001b[43m,\u001b[49m\n\u001b[1;32m    215\u001b[0m \u001b[43m        \u001b[49m\u001b[43mdisable_tqdm\u001b[49m\u001b[38;5;241;43m=\u001b[39;49m\u001b[43mdownload_config\u001b[49m\u001b[38;5;241;43m.\u001b[39;49m\u001b[43mdisable_tqdm\u001b[49m\u001b[43m,\u001b[49m\n\u001b[1;32m    216\u001b[0m \u001b[43m    \u001b[49m\u001b[43m)\u001b[49m\n\u001b[1;32m    217\u001b[0m \u001b[38;5;28;01melif\u001b[39;00m os\u001b[38;5;241m.\u001b[39mpath\u001b[38;5;241m.\u001b[39mexists(url_or_filename):\n\u001b[1;32m    218\u001b[0m     \u001b[38;5;66;03m# File, and it exists.\u001b[39;00m\n\u001b[1;32m    219\u001b[0m     output_path \u001b[38;5;241m=\u001b[39m url_or_filename\n",
      "File \u001b[0;32m/opt/conda/envs/multi-tokenizer/lib/python3.12/site-packages/datasets/utils/file_utils.py:676\u001b[0m, in \u001b[0;36mget_from_cache\u001b[0;34m(url, cache_dir, force_download, proxies, etag_timeout, resume_download, user_agent, local_files_only, use_etag, max_retries, token, use_auth_token, ignore_url_params, storage_options, download_desc, disable_tqdm)\u001b[0m\n\u001b[1;32m    674\u001b[0m     ftp_get(url, temp_file)\n\u001b[1;32m    675\u001b[0m \u001b[38;5;28;01melif\u001b[39;00m scheme \u001b[38;5;129;01mnot\u001b[39;00m \u001b[38;5;129;01min\u001b[39;00m (\u001b[38;5;124m\"\u001b[39m\u001b[38;5;124mhttp\u001b[39m\u001b[38;5;124m\"\u001b[39m, \u001b[38;5;124m\"\u001b[39m\u001b[38;5;124mhttps\u001b[39m\u001b[38;5;124m\"\u001b[39m):\n\u001b[0;32m--> 676\u001b[0m     \u001b[43mfsspec_get\u001b[49m\u001b[43m(\u001b[49m\n\u001b[1;32m    677\u001b[0m \u001b[43m        \u001b[49m\u001b[43murl\u001b[49m\u001b[43m,\u001b[49m\u001b[43m \u001b[49m\u001b[43mtemp_file\u001b[49m\u001b[43m,\u001b[49m\u001b[43m \u001b[49m\u001b[43mstorage_options\u001b[49m\u001b[38;5;241;43m=\u001b[39;49m\u001b[43mstorage_options\u001b[49m\u001b[43m,\u001b[49m\u001b[43m \u001b[49m\u001b[43mdesc\u001b[49m\u001b[38;5;241;43m=\u001b[39;49m\u001b[43mdownload_desc\u001b[49m\u001b[43m,\u001b[49m\u001b[43m \u001b[49m\u001b[43mdisable_tqdm\u001b[49m\u001b[38;5;241;43m=\u001b[39;49m\u001b[43mdisable_tqdm\u001b[49m\n\u001b[1;32m    678\u001b[0m \u001b[43m    \u001b[49m\u001b[43m)\u001b[49m\n\u001b[1;32m    679\u001b[0m \u001b[38;5;28;01melse\u001b[39;00m:\n\u001b[1;32m    680\u001b[0m     http_get(\n\u001b[1;32m    681\u001b[0m         url,\n\u001b[1;32m    682\u001b[0m         temp_file\u001b[38;5;241m=\u001b[39mtemp_file,\n\u001b[0;32m   (...)\u001b[0m\n\u001b[1;32m    689\u001b[0m         disable_tqdm\u001b[38;5;241m=\u001b[39mdisable_tqdm,\n\u001b[1;32m    690\u001b[0m     )\n",
      "File \u001b[0;32m/opt/conda/envs/multi-tokenizer/lib/python3.12/site-packages/datasets/utils/file_utils.py:385\u001b[0m, in \u001b[0;36mfsspec_get\u001b[0;34m(url, temp_file, storage_options, desc, disable_tqdm)\u001b[0m\n\u001b[1;32m    372\u001b[0m fs, path \u001b[38;5;241m=\u001b[39m url_to_fs(url, \u001b[38;5;241m*\u001b[39m\u001b[38;5;241m*\u001b[39m(storage_options \u001b[38;5;129;01mor\u001b[39;00m {}))\n\u001b[1;32m    373\u001b[0m callback \u001b[38;5;241m=\u001b[39m TqdmCallback(\n\u001b[1;32m    374\u001b[0m     tqdm_kwargs\u001b[38;5;241m=\u001b[39m{\n\u001b[1;32m    375\u001b[0m         \u001b[38;5;124m\"\u001b[39m\u001b[38;5;124mdesc\u001b[39m\u001b[38;5;124m\"\u001b[39m: desc \u001b[38;5;129;01mor\u001b[39;00m \u001b[38;5;124m\"\u001b[39m\u001b[38;5;124mDownloading\u001b[39m\u001b[38;5;124m\"\u001b[39m,\n\u001b[0;32m   (...)\u001b[0m\n\u001b[1;32m    383\u001b[0m     }\n\u001b[1;32m    384\u001b[0m )\n\u001b[0;32m--> 385\u001b[0m \u001b[43mfs\u001b[49m\u001b[38;5;241;43m.\u001b[39;49m\u001b[43mget_file\u001b[49m\u001b[43m(\u001b[49m\u001b[43mpath\u001b[49m\u001b[43m,\u001b[49m\u001b[43m \u001b[49m\u001b[43mtemp_file\u001b[49m\u001b[38;5;241;43m.\u001b[39;49m\u001b[43mname\u001b[49m\u001b[43m,\u001b[49m\u001b[43m \u001b[49m\u001b[43mcallback\u001b[49m\u001b[38;5;241;43m=\u001b[39;49m\u001b[43mcallback\u001b[49m\u001b[43m)\u001b[49m\n",
      "File \u001b[0;32m/opt/conda/envs/multi-tokenizer/lib/python3.12/site-packages/huggingface_hub/hf_file_system.py:648\u001b[0m, in \u001b[0;36mHfFileSystem.get_file\u001b[0;34m(self, rpath, lpath, callback, outfile, **kwargs)\u001b[0m\n\u001b[1;32m    646\u001b[0m callback\u001b[38;5;241m.\u001b[39mset_size(expected_size)\n\u001b[1;32m    647\u001b[0m \u001b[38;5;28;01mtry\u001b[39;00m:\n\u001b[0;32m--> 648\u001b[0m     \u001b[43mhttp_get\u001b[49m\u001b[43m(\u001b[49m\n\u001b[1;32m    649\u001b[0m \u001b[43m        \u001b[49m\u001b[43murl\u001b[49m\u001b[38;5;241;43m=\u001b[39;49m\u001b[43mhf_hub_url\u001b[49m\u001b[43m(\u001b[49m\n\u001b[1;32m    650\u001b[0m \u001b[43m            \u001b[49m\u001b[43mrepo_id\u001b[49m\u001b[38;5;241;43m=\u001b[39;49m\u001b[43mresolve_remote_path\u001b[49m\u001b[38;5;241;43m.\u001b[39;49m\u001b[43mrepo_id\u001b[49m\u001b[43m,\u001b[49m\n\u001b[1;32m    651\u001b[0m \u001b[43m            \u001b[49m\u001b[43mrevision\u001b[49m\u001b[38;5;241;43m=\u001b[39;49m\u001b[43mresolve_remote_path\u001b[49m\u001b[38;5;241;43m.\u001b[39;49m\u001b[43mrevision\u001b[49m\u001b[43m,\u001b[49m\n\u001b[1;32m    652\u001b[0m \u001b[43m            \u001b[49m\u001b[43mfilename\u001b[49m\u001b[38;5;241;43m=\u001b[39;49m\u001b[43mresolve_remote_path\u001b[49m\u001b[38;5;241;43m.\u001b[39;49m\u001b[43mpath_in_repo\u001b[49m\u001b[43m,\u001b[49m\n\u001b[1;32m    653\u001b[0m \u001b[43m            \u001b[49m\u001b[43mrepo_type\u001b[49m\u001b[38;5;241;43m=\u001b[39;49m\u001b[43mresolve_remote_path\u001b[49m\u001b[38;5;241;43m.\u001b[39;49m\u001b[43mrepo_type\u001b[49m\u001b[43m,\u001b[49m\n\u001b[1;32m    654\u001b[0m \u001b[43m            \u001b[49m\u001b[43mendpoint\u001b[49m\u001b[38;5;241;43m=\u001b[39;49m\u001b[38;5;28;43mself\u001b[39;49m\u001b[38;5;241;43m.\u001b[39;49m\u001b[43mendpoint\u001b[49m\u001b[43m,\u001b[49m\n\u001b[1;32m    655\u001b[0m \u001b[43m        \u001b[49m\u001b[43m)\u001b[49m\u001b[43m,\u001b[49m\n\u001b[1;32m    656\u001b[0m \u001b[43m        \u001b[49m\u001b[43mtemp_file\u001b[49m\u001b[38;5;241;43m=\u001b[39;49m\u001b[43moutfile\u001b[49m\u001b[43m,\u001b[49m\n\u001b[1;32m    657\u001b[0m \u001b[43m        \u001b[49m\u001b[43mdisplayed_filename\u001b[49m\u001b[38;5;241;43m=\u001b[39;49m\u001b[43mrpath\u001b[49m\u001b[43m,\u001b[49m\n\u001b[1;32m    658\u001b[0m \u001b[43m        \u001b[49m\u001b[43mexpected_size\u001b[49m\u001b[38;5;241;43m=\u001b[39;49m\u001b[43mexpected_size\u001b[49m\u001b[43m,\u001b[49m\n\u001b[1;32m    659\u001b[0m \u001b[43m        \u001b[49m\u001b[43mresume_size\u001b[49m\u001b[38;5;241;43m=\u001b[39;49m\u001b[38;5;241;43m0\u001b[39;49m\u001b[43m,\u001b[49m\n\u001b[1;32m    660\u001b[0m \u001b[43m        \u001b[49m\u001b[43mheaders\u001b[49m\u001b[38;5;241;43m=\u001b[39;49m\u001b[38;5;28;43mself\u001b[39;49m\u001b[38;5;241;43m.\u001b[39;49m\u001b[43m_api\u001b[49m\u001b[38;5;241;43m.\u001b[39;49m\u001b[43m_build_hf_headers\u001b[49m\u001b[43m(\u001b[49m\u001b[43m)\u001b[49m\u001b[43m,\u001b[49m\n\u001b[1;32m    661\u001b[0m \u001b[43m        \u001b[49m\u001b[43m_tqdm_bar\u001b[49m\u001b[38;5;241;43m=\u001b[39;49m\u001b[43mcallback\u001b[49m\u001b[38;5;241;43m.\u001b[39;49m\u001b[43mtqdm\u001b[49m\u001b[43m \u001b[49m\u001b[38;5;28;43;01mif\u001b[39;49;00m\u001b[43m \u001b[49m\u001b[38;5;28;43misinstance\u001b[39;49m\u001b[43m(\u001b[49m\u001b[43mcallback\u001b[49m\u001b[43m,\u001b[49m\u001b[43m \u001b[49m\u001b[43mTqdmCallback\u001b[49m\u001b[43m)\u001b[49m\u001b[43m \u001b[49m\u001b[38;5;28;43;01melse\u001b[39;49;00m\u001b[43m \u001b[49m\u001b[38;5;28;43;01mNone\u001b[39;49;00m\u001b[43m,\u001b[49m\n\u001b[1;32m    662\u001b[0m \u001b[43m    \u001b[49m\u001b[43m)\u001b[49m\n\u001b[1;32m    663\u001b[0m     outfile\u001b[38;5;241m.\u001b[39mseek(initial_pos)\n\u001b[1;32m    664\u001b[0m \u001b[38;5;28;01mfinally\u001b[39;00m:\n\u001b[1;32m    665\u001b[0m     \u001b[38;5;66;03m# Close file only if we opened it ourselves\u001b[39;00m\n",
      "File \u001b[0;32m/opt/conda/envs/multi-tokenizer/lib/python3.12/site-packages/huggingface_hub/file_download.py:549\u001b[0m, in \u001b[0;36mhttp_get\u001b[0;34m(url, temp_file, proxies, resume_size, headers, expected_size, displayed_filename, _nb_retries, _tqdm_bar)\u001b[0m\n\u001b[1;32m    547\u001b[0m new_resume_size \u001b[38;5;241m=\u001b[39m resume_size\n\u001b[1;32m    548\u001b[0m \u001b[38;5;28;01mtry\u001b[39;00m:\n\u001b[0;32m--> 549\u001b[0m \u001b[43m    \u001b[49m\u001b[38;5;28;43;01mfor\u001b[39;49;00m\u001b[43m \u001b[49m\u001b[43mchunk\u001b[49m\u001b[43m \u001b[49m\u001b[38;5;129;43;01min\u001b[39;49;00m\u001b[43m \u001b[49m\u001b[43mr\u001b[49m\u001b[38;5;241;43m.\u001b[39;49m\u001b[43miter_content\u001b[49m\u001b[43m(\u001b[49m\u001b[43mchunk_size\u001b[49m\u001b[38;5;241;43m=\u001b[39;49m\u001b[43mDOWNLOAD_CHUNK_SIZE\u001b[49m\u001b[43m)\u001b[49m\u001b[43m:\u001b[49m\n\u001b[1;32m    550\u001b[0m \u001b[43m        \u001b[49m\u001b[38;5;28;43;01mif\u001b[39;49;00m\u001b[43m \u001b[49m\u001b[43mchunk\u001b[49m\u001b[43m:\u001b[49m\u001b[43m  \u001b[49m\u001b[38;5;66;43;03m# filter out keep-alive new chunks\u001b[39;49;00m\n\u001b[1;32m    551\u001b[0m \u001b[43m            \u001b[49m\u001b[43mprogress\u001b[49m\u001b[38;5;241;43m.\u001b[39;49m\u001b[43mupdate\u001b[49m\u001b[43m(\u001b[49m\u001b[38;5;28;43mlen\u001b[39;49m\u001b[43m(\u001b[49m\u001b[43mchunk\u001b[49m\u001b[43m)\u001b[49m\u001b[43m)\u001b[49m\n",
      "File \u001b[0;32m/opt/conda/envs/multi-tokenizer/lib/python3.12/site-packages/requests/models.py:820\u001b[0m, in \u001b[0;36mResponse.iter_content.<locals>.generate\u001b[0;34m()\u001b[0m\n\u001b[1;32m    818\u001b[0m \u001b[38;5;28;01mif\u001b[39;00m \u001b[38;5;28mhasattr\u001b[39m(\u001b[38;5;28mself\u001b[39m\u001b[38;5;241m.\u001b[39mraw, \u001b[38;5;124m\"\u001b[39m\u001b[38;5;124mstream\u001b[39m\u001b[38;5;124m\"\u001b[39m):\n\u001b[1;32m    819\u001b[0m     \u001b[38;5;28;01mtry\u001b[39;00m:\n\u001b[0;32m--> 820\u001b[0m         \u001b[38;5;28;01myield from\u001b[39;00m \u001b[38;5;28mself\u001b[39m\u001b[38;5;241m.\u001b[39mraw\u001b[38;5;241m.\u001b[39mstream(chunk_size, decode_content\u001b[38;5;241m=\u001b[39m\u001b[38;5;28;01mTrue\u001b[39;00m)\n\u001b[1;32m    821\u001b[0m     \u001b[38;5;28;01mexcept\u001b[39;00m ProtocolError \u001b[38;5;28;01mas\u001b[39;00m e:\n\u001b[1;32m    822\u001b[0m         \u001b[38;5;28;01mraise\u001b[39;00m ChunkedEncodingError(e)\n",
      "File \u001b[0;32m/opt/conda/envs/multi-tokenizer/lib/python3.12/site-packages/urllib3/response.py:1060\u001b[0m, in \u001b[0;36mHTTPResponse.stream\u001b[0;34m(self, amt, decode_content)\u001b[0m\n\u001b[1;32m   1058\u001b[0m \u001b[38;5;28;01melse\u001b[39;00m:\n\u001b[1;32m   1059\u001b[0m     \u001b[38;5;28;01mwhile\u001b[39;00m \u001b[38;5;129;01mnot\u001b[39;00m is_fp_closed(\u001b[38;5;28mself\u001b[39m\u001b[38;5;241m.\u001b[39m_fp) \u001b[38;5;129;01mor\u001b[39;00m \u001b[38;5;28mlen\u001b[39m(\u001b[38;5;28mself\u001b[39m\u001b[38;5;241m.\u001b[39m_decoded_buffer) \u001b[38;5;241m>\u001b[39m \u001b[38;5;241m0\u001b[39m:\n\u001b[0;32m-> 1060\u001b[0m         data \u001b[38;5;241m=\u001b[39m \u001b[38;5;28;43mself\u001b[39;49m\u001b[38;5;241;43m.\u001b[39;49m\u001b[43mread\u001b[49m\u001b[43m(\u001b[49m\u001b[43mamt\u001b[49m\u001b[38;5;241;43m=\u001b[39;49m\u001b[43mamt\u001b[49m\u001b[43m,\u001b[49m\u001b[43m \u001b[49m\u001b[43mdecode_content\u001b[49m\u001b[38;5;241;43m=\u001b[39;49m\u001b[43mdecode_content\u001b[49m\u001b[43m)\u001b[49m\n\u001b[1;32m   1062\u001b[0m         \u001b[38;5;28;01mif\u001b[39;00m data:\n\u001b[1;32m   1063\u001b[0m             \u001b[38;5;28;01myield\u001b[39;00m data\n",
      "File \u001b[0;32m/opt/conda/envs/multi-tokenizer/lib/python3.12/site-packages/urllib3/response.py:949\u001b[0m, in \u001b[0;36mHTTPResponse.read\u001b[0;34m(self, amt, decode_content, cache_content)\u001b[0m\n\u001b[1;32m    946\u001b[0m     \u001b[38;5;28;01mif\u001b[39;00m \u001b[38;5;28mlen\u001b[39m(\u001b[38;5;28mself\u001b[39m\u001b[38;5;241m.\u001b[39m_decoded_buffer) \u001b[38;5;241m>\u001b[39m\u001b[38;5;241m=\u001b[39m amt:\n\u001b[1;32m    947\u001b[0m         \u001b[38;5;28;01mreturn\u001b[39;00m \u001b[38;5;28mself\u001b[39m\u001b[38;5;241m.\u001b[39m_decoded_buffer\u001b[38;5;241m.\u001b[39mget(amt)\n\u001b[0;32m--> 949\u001b[0m data \u001b[38;5;241m=\u001b[39m \u001b[38;5;28;43mself\u001b[39;49m\u001b[38;5;241;43m.\u001b[39;49m\u001b[43m_raw_read\u001b[49m\u001b[43m(\u001b[49m\u001b[43mamt\u001b[49m\u001b[43m)\u001b[49m\n\u001b[1;32m    951\u001b[0m flush_decoder \u001b[38;5;241m=\u001b[39m amt \u001b[38;5;129;01mis\u001b[39;00m \u001b[38;5;28;01mNone\u001b[39;00m \u001b[38;5;129;01mor\u001b[39;00m (amt \u001b[38;5;241m!=\u001b[39m \u001b[38;5;241m0\u001b[39m \u001b[38;5;129;01mand\u001b[39;00m \u001b[38;5;129;01mnot\u001b[39;00m data)\n\u001b[1;32m    953\u001b[0m \u001b[38;5;28;01mif\u001b[39;00m \u001b[38;5;129;01mnot\u001b[39;00m data \u001b[38;5;129;01mand\u001b[39;00m \u001b[38;5;28mlen\u001b[39m(\u001b[38;5;28mself\u001b[39m\u001b[38;5;241m.\u001b[39m_decoded_buffer) \u001b[38;5;241m==\u001b[39m \u001b[38;5;241m0\u001b[39m:\n",
      "File \u001b[0;32m/opt/conda/envs/multi-tokenizer/lib/python3.12/site-packages/urllib3/response.py:873\u001b[0m, in \u001b[0;36mHTTPResponse._raw_read\u001b[0;34m(self, amt, read1)\u001b[0m\n\u001b[1;32m    870\u001b[0m fp_closed \u001b[38;5;241m=\u001b[39m \u001b[38;5;28mgetattr\u001b[39m(\u001b[38;5;28mself\u001b[39m\u001b[38;5;241m.\u001b[39m_fp, \u001b[38;5;124m\"\u001b[39m\u001b[38;5;124mclosed\u001b[39m\u001b[38;5;124m\"\u001b[39m, \u001b[38;5;28;01mFalse\u001b[39;00m)\n\u001b[1;32m    872\u001b[0m \u001b[38;5;28;01mwith\u001b[39;00m \u001b[38;5;28mself\u001b[39m\u001b[38;5;241m.\u001b[39m_error_catcher():\n\u001b[0;32m--> 873\u001b[0m     data \u001b[38;5;241m=\u001b[39m \u001b[38;5;28;43mself\u001b[39;49m\u001b[38;5;241;43m.\u001b[39;49m\u001b[43m_fp_read\u001b[49m\u001b[43m(\u001b[49m\u001b[43mamt\u001b[49m\u001b[43m,\u001b[49m\u001b[43m \u001b[49m\u001b[43mread1\u001b[49m\u001b[38;5;241;43m=\u001b[39;49m\u001b[43mread1\u001b[49m\u001b[43m)\u001b[49m \u001b[38;5;28;01mif\u001b[39;00m \u001b[38;5;129;01mnot\u001b[39;00m fp_closed \u001b[38;5;28;01melse\u001b[39;00m \u001b[38;5;124mb\u001b[39m\u001b[38;5;124m\"\u001b[39m\u001b[38;5;124m\"\u001b[39m\n\u001b[1;32m    874\u001b[0m     \u001b[38;5;28;01mif\u001b[39;00m amt \u001b[38;5;129;01mis\u001b[39;00m \u001b[38;5;129;01mnot\u001b[39;00m \u001b[38;5;28;01mNone\u001b[39;00m \u001b[38;5;129;01mand\u001b[39;00m amt \u001b[38;5;241m!=\u001b[39m \u001b[38;5;241m0\u001b[39m \u001b[38;5;129;01mand\u001b[39;00m \u001b[38;5;129;01mnot\u001b[39;00m data:\n\u001b[1;32m    875\u001b[0m         \u001b[38;5;66;03m# Platform-specific: Buggy versions of Python.\u001b[39;00m\n\u001b[1;32m    876\u001b[0m         \u001b[38;5;66;03m# Close the connection when no data is returned\u001b[39;00m\n\u001b[0;32m   (...)\u001b[0m\n\u001b[1;32m    881\u001b[0m         \u001b[38;5;66;03m# not properly close the connection in all cases. There is\u001b[39;00m\n\u001b[1;32m    882\u001b[0m         \u001b[38;5;66;03m# no harm in redundantly calling close.\u001b[39;00m\n\u001b[1;32m    883\u001b[0m         \u001b[38;5;28mself\u001b[39m\u001b[38;5;241m.\u001b[39m_fp\u001b[38;5;241m.\u001b[39mclose()\n",
      "File \u001b[0;32m/opt/conda/envs/multi-tokenizer/lib/python3.12/site-packages/urllib3/response.py:856\u001b[0m, in \u001b[0;36mHTTPResponse._fp_read\u001b[0;34m(self, amt, read1)\u001b[0m\n\u001b[1;32m    853\u001b[0m     \u001b[38;5;28;01mreturn\u001b[39;00m \u001b[38;5;28mself\u001b[39m\u001b[38;5;241m.\u001b[39m_fp\u001b[38;5;241m.\u001b[39mread1(amt) \u001b[38;5;28;01mif\u001b[39;00m amt \u001b[38;5;129;01mis\u001b[39;00m \u001b[38;5;129;01mnot\u001b[39;00m \u001b[38;5;28;01mNone\u001b[39;00m \u001b[38;5;28;01melse\u001b[39;00m \u001b[38;5;28mself\u001b[39m\u001b[38;5;241m.\u001b[39m_fp\u001b[38;5;241m.\u001b[39mread1()\n\u001b[1;32m    854\u001b[0m \u001b[38;5;28;01melse\u001b[39;00m:\n\u001b[1;32m    855\u001b[0m     \u001b[38;5;66;03m# StringIO doesn't like amt=None\u001b[39;00m\n\u001b[0;32m--> 856\u001b[0m     \u001b[38;5;28;01mreturn\u001b[39;00m \u001b[38;5;28;43mself\u001b[39;49m\u001b[38;5;241;43m.\u001b[39;49m\u001b[43m_fp\u001b[49m\u001b[38;5;241;43m.\u001b[39;49m\u001b[43mread\u001b[49m\u001b[43m(\u001b[49m\u001b[43mamt\u001b[49m\u001b[43m)\u001b[49m \u001b[38;5;28;01mif\u001b[39;00m amt \u001b[38;5;129;01mis\u001b[39;00m \u001b[38;5;129;01mnot\u001b[39;00m \u001b[38;5;28;01mNone\u001b[39;00m \u001b[38;5;28;01melse\u001b[39;00m \u001b[38;5;28mself\u001b[39m\u001b[38;5;241m.\u001b[39m_fp\u001b[38;5;241m.\u001b[39mread()\n",
      "File \u001b[0;32m/opt/conda/envs/multi-tokenizer/lib/python3.12/http/client.py:479\u001b[0m, in \u001b[0;36mHTTPResponse.read\u001b[0;34m(self, amt)\u001b[0m\n\u001b[1;32m    476\u001b[0m \u001b[38;5;28;01mif\u001b[39;00m \u001b[38;5;28mself\u001b[39m\u001b[38;5;241m.\u001b[39mlength \u001b[38;5;129;01mis\u001b[39;00m \u001b[38;5;129;01mnot\u001b[39;00m \u001b[38;5;28;01mNone\u001b[39;00m \u001b[38;5;129;01mand\u001b[39;00m amt \u001b[38;5;241m>\u001b[39m \u001b[38;5;28mself\u001b[39m\u001b[38;5;241m.\u001b[39mlength:\n\u001b[1;32m    477\u001b[0m     \u001b[38;5;66;03m# clip the read to the \"end of response\"\u001b[39;00m\n\u001b[1;32m    478\u001b[0m     amt \u001b[38;5;241m=\u001b[39m \u001b[38;5;28mself\u001b[39m\u001b[38;5;241m.\u001b[39mlength\n\u001b[0;32m--> 479\u001b[0m s \u001b[38;5;241m=\u001b[39m \u001b[38;5;28;43mself\u001b[39;49m\u001b[38;5;241;43m.\u001b[39;49m\u001b[43mfp\u001b[49m\u001b[38;5;241;43m.\u001b[39;49m\u001b[43mread\u001b[49m\u001b[43m(\u001b[49m\u001b[43mamt\u001b[49m\u001b[43m)\u001b[49m\n\u001b[1;32m    480\u001b[0m \u001b[38;5;28;01mif\u001b[39;00m \u001b[38;5;129;01mnot\u001b[39;00m s \u001b[38;5;129;01mand\u001b[39;00m amt:\n\u001b[1;32m    481\u001b[0m     \u001b[38;5;66;03m# Ideally, we would raise IncompleteRead if the content-length\u001b[39;00m\n\u001b[1;32m    482\u001b[0m     \u001b[38;5;66;03m# wasn't satisfied, but it might break compatibility.\u001b[39;00m\n\u001b[1;32m    483\u001b[0m     \u001b[38;5;28mself\u001b[39m\u001b[38;5;241m.\u001b[39m_close_conn()\n",
      "File \u001b[0;32m/opt/conda/envs/multi-tokenizer/lib/python3.12/socket.py:708\u001b[0m, in \u001b[0;36mSocketIO.readinto\u001b[0;34m(self, b)\u001b[0m\n\u001b[1;32m    706\u001b[0m \u001b[38;5;28;01mwhile\u001b[39;00m \u001b[38;5;28;01mTrue\u001b[39;00m:\n\u001b[1;32m    707\u001b[0m     \u001b[38;5;28;01mtry\u001b[39;00m:\n\u001b[0;32m--> 708\u001b[0m         \u001b[38;5;28;01mreturn\u001b[39;00m \u001b[38;5;28;43mself\u001b[39;49m\u001b[38;5;241;43m.\u001b[39;49m\u001b[43m_sock\u001b[49m\u001b[38;5;241;43m.\u001b[39;49m\u001b[43mrecv_into\u001b[49m\u001b[43m(\u001b[49m\u001b[43mb\u001b[49m\u001b[43m)\u001b[49m\n\u001b[1;32m    709\u001b[0m     \u001b[38;5;28;01mexcept\u001b[39;00m timeout:\n\u001b[1;32m    710\u001b[0m         \u001b[38;5;28mself\u001b[39m\u001b[38;5;241m.\u001b[39m_timeout_occurred \u001b[38;5;241m=\u001b[39m \u001b[38;5;28;01mTrue\u001b[39;00m\n",
      "File \u001b[0;32m/opt/conda/envs/multi-tokenizer/lib/python3.12/ssl.py:1252\u001b[0m, in \u001b[0;36mSSLSocket.recv_into\u001b[0;34m(self, buffer, nbytes, flags)\u001b[0m\n\u001b[1;32m   1248\u001b[0m     \u001b[38;5;28;01mif\u001b[39;00m flags \u001b[38;5;241m!=\u001b[39m \u001b[38;5;241m0\u001b[39m:\n\u001b[1;32m   1249\u001b[0m         \u001b[38;5;28;01mraise\u001b[39;00m \u001b[38;5;167;01mValueError\u001b[39;00m(\n\u001b[1;32m   1250\u001b[0m           \u001b[38;5;124m\"\u001b[39m\u001b[38;5;124mnon-zero flags not allowed in calls to recv_into() on \u001b[39m\u001b[38;5;132;01m%s\u001b[39;00m\u001b[38;5;124m\"\u001b[39m \u001b[38;5;241m%\u001b[39m\n\u001b[1;32m   1251\u001b[0m           \u001b[38;5;28mself\u001b[39m\u001b[38;5;241m.\u001b[39m\u001b[38;5;18m__class__\u001b[39m)\n\u001b[0;32m-> 1252\u001b[0m     \u001b[38;5;28;01mreturn\u001b[39;00m \u001b[38;5;28;43mself\u001b[39;49m\u001b[38;5;241;43m.\u001b[39;49m\u001b[43mread\u001b[49m\u001b[43m(\u001b[49m\u001b[43mnbytes\u001b[49m\u001b[43m,\u001b[49m\u001b[43m \u001b[49m\u001b[43mbuffer\u001b[49m\u001b[43m)\u001b[49m\n\u001b[1;32m   1253\u001b[0m \u001b[38;5;28;01melse\u001b[39;00m:\n\u001b[1;32m   1254\u001b[0m     \u001b[38;5;28;01mreturn\u001b[39;00m \u001b[38;5;28msuper\u001b[39m()\u001b[38;5;241m.\u001b[39mrecv_into(buffer, nbytes, flags)\n",
      "File \u001b[0;32m/opt/conda/envs/multi-tokenizer/lib/python3.12/ssl.py:1104\u001b[0m, in \u001b[0;36mSSLSocket.read\u001b[0;34m(self, len, buffer)\u001b[0m\n\u001b[1;32m   1102\u001b[0m \u001b[38;5;28;01mtry\u001b[39;00m:\n\u001b[1;32m   1103\u001b[0m     \u001b[38;5;28;01mif\u001b[39;00m buffer \u001b[38;5;129;01mis\u001b[39;00m \u001b[38;5;129;01mnot\u001b[39;00m \u001b[38;5;28;01mNone\u001b[39;00m:\n\u001b[0;32m-> 1104\u001b[0m         \u001b[38;5;28;01mreturn\u001b[39;00m \u001b[38;5;28;43mself\u001b[39;49m\u001b[38;5;241;43m.\u001b[39;49m\u001b[43m_sslobj\u001b[49m\u001b[38;5;241;43m.\u001b[39;49m\u001b[43mread\u001b[49m\u001b[43m(\u001b[49m\u001b[38;5;28;43mlen\u001b[39;49m\u001b[43m,\u001b[49m\u001b[43m \u001b[49m\u001b[43mbuffer\u001b[49m\u001b[43m)\u001b[49m\n\u001b[1;32m   1105\u001b[0m     \u001b[38;5;28;01melse\u001b[39;00m:\n\u001b[1;32m   1106\u001b[0m         \u001b[38;5;28;01mreturn\u001b[39;00m \u001b[38;5;28mself\u001b[39m\u001b[38;5;241m.\u001b[39m_sslobj\u001b[38;5;241m.\u001b[39mread(\u001b[38;5;28mlen\u001b[39m)\n",
      "\u001b[0;31mKeyboardInterrupt\u001b[0m: "
     ]
    }
   ],
   "source": [
    "from datasets import load_dataset\n",
    "\n",
    "dataset = load_dataset(\"wikitext\", \"wikitext-103-raw-v1\" ,split=\"train\")\n",
    "batch_size = 1000\n",
    "all_texts = [dataset[i : i + batch_size][\"text\"] for i in range(0, len(dataset), batch_size)]\n",
    "def batch_iterator():\n",
    "    for i in range(0, len(dataset), batch_size):\n",
    "        yield dataset[i : i + batch_size][\"text\"]"
   ]
  },
  {
   "cell_type": "code",
   "execution_count": null,
   "metadata": {},
   "outputs": [],
   "source": [
    "tokenizer = ByteLevelBPETokenizer()"
   ]
  },
  {
   "cell_type": "code",
   "execution_count": null,
   "metadata": {},
   "outputs": [
    {
     "name": "stdout",
     "output_type": "stream",
     "text": [
      "\n",
      "\n",
      "\n"
     ]
    }
   ],
   "source": [
    "tokenizer.train_from_iterator(batch_iterator(), vocab_size=25000, min_frequency=2, special_tokens=[\"<UNK>\", \"<CLS>\", \"<SEP>\", \"<PAD>\", \"<MASK>\"])"
   ]
  },
  {
   "cell_type": "code",
   "execution_count": 40,
   "metadata": {},
   "outputs": [],
   "source": [
    "output = tokenizer.encode(\"Hello, y'all! How are you 😁?\")\n"
   ]
  },
  {
   "cell_type": "code",
   "execution_count": 41,
   "metadata": {},
   "outputs": [
    {
     "data": {
      "text/plain": [
       "Encoding(num_tokens=16, attributes=[ids, type_ids, tokens, offsets, attention_mask, special_tokens_mask, overflowing])"
      ]
     },
     "execution_count": 41,
     "metadata": {},
     "output_type": "execute_result"
    }
   ],
   "source": [
    "output"
   ]
  },
  {
   "cell_type": "code",
   "execution_count": 32,
   "metadata": {},
   "outputs": [
    {
     "name": "stdout",
     "output_type": "stream",
     "text": [
      "Hello, y'all! How are you 😁?\n"
     ]
    }
   ],
   "source": [
    "print(tokenizer.decode(output.ids))"
   ]
  },
  {
   "cell_type": "code",
   "execution_count": 33,
   "metadata": {},
   "outputs": [
    {
     "data": {
      "text/plain": [
       "[('Hello', (0, 5)),\n",
       " (',', (5, 6)),\n",
       " ('Ġy', (6, 8)),\n",
       " (\"'\", (8, 9)),\n",
       " ('all', (9, 12)),\n",
       " ('!', (12, 13)),\n",
       " ('ĠHow', (13, 17)),\n",
       " ('Ġare', (17, 21)),\n",
       " ('Ġyou', (21, 25)),\n",
       " ('ĠðŁĺģ?', (25, 28))]"
      ]
     },
     "execution_count": 33,
     "metadata": {},
     "output_type": "execute_result"
    }
   ],
   "source": [
    "tokenizer.pre_tokenizer.pre_tokenize_str(\"Hello, y'all! How are you 😁?\")"
   ]
  },
  {
   "cell_type": "code",
   "execution_count": 39,
   "metadata": {},
   "outputs": [
    {
     "data": {
      "text/plain": [
       "[('vogns', 17925),\n",
       " ('Ġ272', 24025),\n",
       " ('omes', 2346),\n",
       " ('Ġpunishment', 9756),\n",
       " ('ĠTric', 21199),\n",
       " ('ĠRelief', 21856),\n",
       " ('ĠTrotternish', 23346),\n",
       " ('enant', 4555),\n",
       " ('Ġabsor', 6931),\n",
       " ('adm', 3761)]"
      ]
     },
     "execution_count": 39,
     "metadata": {},
     "output_type": "execute_result"
    }
   ],
   "source": [
    "list(tokenizer.get_vocab().items())[:10]"
   ]
  },
  {
   "cell_type": "code",
   "execution_count": 34,
   "metadata": {},
   "outputs": [],
   "source": [
    "tokenizer.save(\"bytelevelbpe-tokenizer-wiki.json\")"
   ]
  },
  {
   "cell_type": "code",
   "execution_count": null,
   "metadata": {},
   "outputs": [],
   "source": []
  }
 ],
 "metadata": {
  "kernelspec": {
   "display_name": "multi-tokenizer",
   "language": "python",
   "name": "python3"
  },
  "language_info": {
   "codemirror_mode": {
    "name": "ipython",
    "version": 3
   },
   "file_extension": ".py",
   "mimetype": "text/x-python",
   "name": "python",
   "nbconvert_exporter": "python",
   "pygments_lexer": "ipython3",
   "version": "3.12.4"
  }
 },
 "nbformat": 4,
 "nbformat_minor": 2
}
